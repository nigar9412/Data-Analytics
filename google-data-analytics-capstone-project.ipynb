{
 "cells": [
  {
   "cell_type": "markdown",
   "id": "c3819296",
   "metadata": {
    "_cell_guid": "b516acb0-e9b9-4b86-a6f2-7699ad524a2f",
    "_uuid": "4dff2e8e-39d8-49a8-80b2-0ea314b0c517",
    "papermill": {
     "duration": 0.018918,
     "end_time": "2024-03-13T06:03:49.588250",
     "exception": false,
     "start_time": "2024-03-13T06:03:49.569332",
     "status": "completed"
    },
    "tags": []
   },
   "source": [
    "# Introduction\n",
    "\n",
    "Cyclistic is a fictional bike-sharing company located in Chicago. In this scenario I am a junior data analyst working for the Marketing team at Cyclistic. One of the key stakeholders believes that the company's future success depends on maximizing the number of annual memberships. My team's goal is to understand how casual riders and annual members use Cyclistic differently. My team will develop a new marketing strategy to convert casual riders into annual members. This will be done upon approval of my recommendations for the company which should be backed up with compelling data insights and professional data visualizations."
   ]
  },
  {
   "cell_type": "markdown",
   "id": "b6997676",
   "metadata": {
    "_cell_guid": "aa1d2aef-5317-4e26-babd-dd45cd0cbf2e",
    "_uuid": "007f9144-2cc5-4091-b0d2-e3ae3e302831",
    "papermill": {
     "duration": 0.018168,
     "end_time": "2024-03-13T06:03:49.624452",
     "exception": false,
     "start_time": "2024-03-13T06:03:49.606284",
     "status": "completed"
    },
    "tags": []
   },
   "source": [
    "# Step 1: Ask\n",
    "Key stages:\n",
    "\n",
    "**1.Identifying the business task**\n",
    "\n",
    "In order to achieve a set clear goal of designing a new marketing strategy, first of all I and my team need to better understand how annual members and casual riders differ, why casual riders would buy a membership, and how digital media could affect their marketing tactics.\n",
    "\n",
    "**2.Considering key stakeholders**\n",
    "\n",
    "The main stakeholders are: Lily Moreno, the marketing director; Cyclistic marketing analytics team,responsible for collecting, analyzing, and reporting data that helps guide Cyclistic marketing strategy; and Cyclistic executive team, who will decide whether to approve the recommended marketing program."
   ]
  },
  {
   "cell_type": "markdown",
   "id": "208f65cb",
   "metadata": {
    "_cell_guid": "92f49a99-8117-4719-ab0d-68daa22623fa",
    "_uuid": "34463a7c-0c41-4257-959c-c4a9dbfd4a5c",
    "papermill": {
     "duration": 0.018078,
     "end_time": "2024-03-13T06:03:49.660531",
     "exception": false,
     "start_time": "2024-03-13T06:03:49.642453",
     "status": "completed"
    },
    "tags": []
   },
   "source": [
    "# Step 2: Prepare\n",
    "\n",
    "Key stages:\n",
    "\n",
    "**1. Downloading data and storing it appropriately**\n",
    "\n",
    "Historical trip data to be analyzed is downloaded from [here](https://divvy-tripdata.s3.amazonaws.com/index.html) and stored locally in my Desktop. The selected range includes data from Divvy_Trips_2019_Q2 to Divvy_Trips_2020_Q1. (Note: The datasets have a different name because Cyclistic is a fictional company. For the purposes of this case study, the datasets are appropriate. The data has been made available by Motivate International Inc. under [this](https://divvybikes.com/data-license-agreement) license).\n",
    "\n",
    "**2. Identifying how it’s organized**\n",
    "\n",
    "Data is organized by compressed folders, folder names are self-explanatory and clear. Some of the folders are organized by quarters, others - by months. When it comes to the content of the files, columns'names might differ, e.g. **trip_id** in Divvy_Trips_2019_Q4 versus **ride_id** in Divvy_Trips_2020_Q1. Furthermore, there are fields with no/missing data, as well as columns containing redundant data.\n",
    "\n",
    "**3. Determining the credibility of the data**\n",
    "\n",
    "Data comes from a reliable source, and it is made publicly available under the [license agreement](https://divvybikes.com/data-license-agreement). The information collected belongs to real users of Divvy, which is a bicycle sharing service operated by Lyft Bikes and Scooters, LLC (“Bikeshare”)  in the city of Chicago (“City”). The City permits Bikeshare to make certain Divvy system data owned by the City available to the public, subject to the terms and conditions of the License Agreement.\n",
    "\n",
    "**4. Sorting and filtering the data**\n",
    "\n",
    "In order to start working with data, I install and load required packages."
   ]
  },
  {
   "cell_type": "code",
   "execution_count": 1,
   "id": "6ea742d7",
   "metadata": {
    "_cell_guid": "632afe68-3564-4532-b7c3-102e63053233",
    "_uuid": "f0840fc6-a0c7-4f98-ad12-82b89169449a",
    "collapsed": false,
    "execution": {
     "iopub.execute_input": "2024-03-13T06:03:49.700711Z",
     "iopub.status.busy": "2024-03-13T06:03:49.698542Z",
     "iopub.status.idle": "2024-03-13T06:03:51.209680Z",
     "shell.execute_reply": "2024-03-13T06:03:51.207705Z"
    },
    "jupyter": {
     "outputs_hidden": false
    },
    "papermill": {
     "duration": 1.534008,
     "end_time": "2024-03-13T06:03:51.212447",
     "exception": false,
     "start_time": "2024-03-13T06:03:49.678439",
     "status": "completed"
    },
    "tags": []
   },
   "outputs": [
    {
     "name": "stderr",
     "output_type": "stream",
     "text": [
      "── \u001b[1mAttaching core tidyverse packages\u001b[22m ──────────────────────── tidyverse 2.0.0 ──\n",
      "\u001b[32m✔\u001b[39m \u001b[34mdplyr    \u001b[39m 1.1.4     \u001b[32m✔\u001b[39m \u001b[34mreadr    \u001b[39m 2.1.4\n",
      "\u001b[32m✔\u001b[39m \u001b[34mforcats  \u001b[39m 1.0.0     \u001b[32m✔\u001b[39m \u001b[34mstringr  \u001b[39m 1.5.1\n",
      "\u001b[32m✔\u001b[39m \u001b[34mggplot2  \u001b[39m 3.4.4     \u001b[32m✔\u001b[39m \u001b[34mtibble   \u001b[39m 3.2.1\n",
      "\u001b[32m✔\u001b[39m \u001b[34mlubridate\u001b[39m 1.9.3     \u001b[32m✔\u001b[39m \u001b[34mtidyr    \u001b[39m 1.3.0\n",
      "\u001b[32m✔\u001b[39m \u001b[34mpurrr    \u001b[39m 1.0.2     \n",
      "── \u001b[1mConflicts\u001b[22m ────────────────────────────────────────── tidyverse_conflicts() ──\n",
      "\u001b[31m✖\u001b[39m \u001b[34mdplyr\u001b[39m::\u001b[32mfilter()\u001b[39m masks \u001b[34mstats\u001b[39m::filter()\n",
      "\u001b[31m✖\u001b[39m \u001b[34mdplyr\u001b[39m::\u001b[32mlag()\u001b[39m    masks \u001b[34mstats\u001b[39m::lag()\n",
      "\u001b[36mℹ\u001b[39m Use the conflicted package (\u001b[3m\u001b[34m<http://conflicted.r-lib.org/>\u001b[39m\u001b[23m) to force all conflicts to become errors\n",
      "\u001b[1m\u001b[22m\u001b[90m[conflicted]\u001b[39m Will prefer \u001b[1m\u001b[34mdplyr\u001b[39m\u001b[22m::filter over any other package.\n",
      "\u001b[1m\u001b[22m\u001b[90m[conflicted]\u001b[39m Will prefer \u001b[1m\u001b[34mdplyr\u001b[39m\u001b[22m::lag over any other package.\n"
     ]
    }
   ],
   "source": [
    "library(tidyverse)  # helps wrangle data\n",
    "# Use the conflicted package to manage conflicts\n",
    "library(conflicted)\n",
    "\n",
    "# Set dplyr::filter and dplyr::lag as the default choices\n",
    "conflict_prefer(\"filter\", \"dplyr\")\n",
    "conflict_prefer(\"lag\", \"dplyr\")"
   ]
  },
  {
   "cell_type": "code",
   "execution_count": 2,
   "id": "2940f2a6",
   "metadata": {
    "_cell_guid": "2fdb590d-d540-47fd-b9ec-7907184a6ea0",
    "_kg_hide-output": true,
    "_uuid": "afa561e1-e2b6-41e4-b904-8fdba1f9d216",
    "execution": {
     "iopub.execute_input": "2024-03-13T06:03:51.285242Z",
     "iopub.status.busy": "2024-03-13T06:03:51.251794Z",
     "iopub.status.idle": "2024-03-13T06:04:02.763968Z",
     "shell.execute_reply": "2024-03-13T06:04:02.761924Z"
    },
    "papermill": {
     "duration": 11.535466,
     "end_time": "2024-03-13T06:04:02.766829",
     "exception": false,
     "start_time": "2024-03-13T06:03:51.231363",
     "status": "completed"
    },
    "tags": []
   },
   "outputs": [
    {
     "name": "stderr",
     "output_type": "stream",
     "text": [
      "\u001b[1mRows: \u001b[22m\u001b[34m1108163\u001b[39m \u001b[1mColumns: \u001b[22m\u001b[34m12\u001b[39m\n",
      "\u001b[36m──\u001b[39m \u001b[1mColumn specification\u001b[22m \u001b[36m────────────────────────────────────────────────────────\u001b[39m\n",
      "\u001b[1mDelimiter:\u001b[22m \",\"\n",
      "\u001b[31mchr\u001b[39m  (4): 03 - Rental Start Station Name, 02 - Rental End Station Name, User...\n",
      "\u001b[32mdbl\u001b[39m  (5): 01 - Rental Details Rental ID, 01 - Rental Details Bike ID, 03 - R...\n",
      "\u001b[32mnum\u001b[39m  (1): 01 - Rental Details Duration In Seconds Uncapped\n",
      "\u001b[34mdttm\u001b[39m (2): 01 - Rental Details Local Start Time, 01 - Rental Details Local En...\n",
      "\n",
      "\u001b[36mℹ\u001b[39m Use `spec()` to retrieve the full column specification for this data.\n",
      "\u001b[36mℹ\u001b[39m Specify the column types or set `show_col_types = FALSE` to quiet this message.\n",
      "\u001b[1mRows: \u001b[22m\u001b[34m1640718\u001b[39m \u001b[1mColumns: \u001b[22m\u001b[34m12\u001b[39m\n",
      "\u001b[36m──\u001b[39m \u001b[1mColumn specification\u001b[22m \u001b[36m────────────────────────────────────────────────────────\u001b[39m\n",
      "\u001b[1mDelimiter:\u001b[22m \",\"\n",
      "\u001b[31mchr\u001b[39m  (4): from_station_name, to_station_name, usertype, gender\n",
      "\u001b[32mdbl\u001b[39m  (5): trip_id, bikeid, from_station_id, to_station_id, birthyear\n",
      "\u001b[32mnum\u001b[39m  (1): tripduration\n",
      "\u001b[34mdttm\u001b[39m (2): start_time, end_time\n",
      "\n",
      "\u001b[36mℹ\u001b[39m Use `spec()` to retrieve the full column specification for this data.\n",
      "\u001b[36mℹ\u001b[39m Specify the column types or set `show_col_types = FALSE` to quiet this message.\n",
      "\u001b[1mRows: \u001b[22m\u001b[34m704054\u001b[39m \u001b[1mColumns: \u001b[22m\u001b[34m12\u001b[39m\n",
      "\u001b[36m──\u001b[39m \u001b[1mColumn specification\u001b[22m \u001b[36m────────────────────────────────────────────────────────\u001b[39m\n",
      "\u001b[1mDelimiter:\u001b[22m \",\"\n",
      "\u001b[31mchr\u001b[39m  (4): from_station_name, to_station_name, usertype, gender\n",
      "\u001b[32mdbl\u001b[39m  (5): trip_id, bikeid, from_station_id, to_station_id, birthyear\n",
      "\u001b[32mnum\u001b[39m  (1): tripduration\n",
      "\u001b[34mdttm\u001b[39m (2): start_time, end_time\n",
      "\n",
      "\u001b[36mℹ\u001b[39m Use `spec()` to retrieve the full column specification for this data.\n",
      "\u001b[36mℹ\u001b[39m Specify the column types or set `show_col_types = FALSE` to quiet this message.\n",
      "\u001b[1mRows: \u001b[22m\u001b[34m426887\u001b[39m \u001b[1mColumns: \u001b[22m\u001b[34m13\u001b[39m\n",
      "\u001b[36m──\u001b[39m \u001b[1mColumn specification\u001b[22m \u001b[36m────────────────────────────────────────────────────────\u001b[39m\n",
      "\u001b[1mDelimiter:\u001b[22m \",\"\n",
      "\u001b[31mchr\u001b[39m  (5): ride_id, rideable_type, start_station_name, end_station_name, memb...\n",
      "\u001b[32mdbl\u001b[39m  (6): start_station_id, end_station_id, start_lat, start_lng, end_lat, e...\n",
      "\u001b[34mdttm\u001b[39m (2): started_at, ended_at\n",
      "\n",
      "\u001b[36mℹ\u001b[39m Use `spec()` to retrieve the full column specification for this data.\n",
      "\u001b[36mℹ\u001b[39m Specify the column types or set `show_col_types = FALSE` to quiet this message.\n"
     ]
    }
   ],
   "source": [
    "# Uploading Divvy datasets - Divvy_Trips_2019_Q2, Divvy_Trips_2019_Q3, Divvy_Trips_2019_Q4, Divvy_Trips_2020_Q1.\n",
    "\n",
    "q2_2019 <- read_csv(\"/kaggle/input/divvy-datasets/Divvy_Trips_2019_Q2.csv\")\n",
    "q3_2019 <- read_csv(\"/kaggle/input/divvy-datasets/Divvy_Trips_2019_Q3.csv\")\n",
    "q4_2019 <- read_csv(\"/kaggle/input/divvy-datasets/Divvy_Trips_2019_Q4.csv\")\n",
    "q1_2020 <- read_csv(\"/kaggle/input/divvy-datasets/Divvy_Trips_2020_Q1.csv\")"
   ]
  },
  {
   "cell_type": "code",
   "execution_count": 3,
   "id": "487ac7d8",
   "metadata": {
    "_cell_guid": "977007f8-e0d0-490b-948b-2dcc8be53de6",
    "_kg_hide-output": false,
    "_uuid": "320375f5-f2c8-4cb5-8b52-74a547d1fdc3",
    "collapsed": false,
    "execution": {
     "iopub.execute_input": "2024-03-13T06:04:02.810273Z",
     "iopub.status.busy": "2024-03-13T06:04:02.808671Z",
     "iopub.status.idle": "2024-03-13T06:04:02.829605Z",
     "shell.execute_reply": "2024-03-13T06:04:02.827797Z"
    },
    "jupyter": {
     "outputs_hidden": false
    },
    "papermill": {
     "duration": 0.045561,
     "end_time": "2024-03-13T06:04:02.832104",
     "exception": false,
     "start_time": "2024-03-13T06:04:02.786543",
     "status": "completed"
    },
    "tags": []
   },
   "outputs": [
    {
     "data": {
      "text/html": [
       "<style>\n",
       ".list-inline {list-style: none; margin:0; padding: 0}\n",
       ".list-inline>li {display: inline-block}\n",
       ".list-inline>li:not(:last-child)::after {content: \"\\00b7\"; padding: 0 .5ex}\n",
       "</style>\n",
       "<ol class=list-inline><li>'01 - Rental Details Rental ID'</li><li>'01 - Rental Details Local Start Time'</li><li>'01 - Rental Details Local End Time'</li><li>'01 - Rental Details Bike ID'</li><li>'01 - Rental Details Duration In Seconds Uncapped'</li><li>'03 - Rental Start Station ID'</li><li>'03 - Rental Start Station Name'</li><li>'02 - Rental End Station ID'</li><li>'02 - Rental End Station Name'</li><li>'User Type'</li><li>'Member Gender'</li><li>'05 - Member Details Member Birthday Year'</li></ol>\n"
      ],
      "text/latex": [
       "\\begin{enumerate*}\n",
       "\\item '01 - Rental Details Rental ID'\n",
       "\\item '01 - Rental Details Local Start Time'\n",
       "\\item '01 - Rental Details Local End Time'\n",
       "\\item '01 - Rental Details Bike ID'\n",
       "\\item '01 - Rental Details Duration In Seconds Uncapped'\n",
       "\\item '03 - Rental Start Station ID'\n",
       "\\item '03 - Rental Start Station Name'\n",
       "\\item '02 - Rental End Station ID'\n",
       "\\item '02 - Rental End Station Name'\n",
       "\\item 'User Type'\n",
       "\\item 'Member Gender'\n",
       "\\item '05 - Member Details Member Birthday Year'\n",
       "\\end{enumerate*}\n"
      ],
      "text/markdown": [
       "1. '01 - Rental Details Rental ID'\n",
       "2. '01 - Rental Details Local Start Time'\n",
       "3. '01 - Rental Details Local End Time'\n",
       "4. '01 - Rental Details Bike ID'\n",
       "5. '01 - Rental Details Duration In Seconds Uncapped'\n",
       "6. '03 - Rental Start Station ID'\n",
       "7. '03 - Rental Start Station Name'\n",
       "8. '02 - Rental End Station ID'\n",
       "9. '02 - Rental End Station Name'\n",
       "10. 'User Type'\n",
       "11. 'Member Gender'\n",
       "12. '05 - Member Details Member Birthday Year'\n",
       "\n",
       "\n"
      ],
      "text/plain": [
       " [1] \"01 - Rental Details Rental ID\"                   \n",
       " [2] \"01 - Rental Details Local Start Time\"            \n",
       " [3] \"01 - Rental Details Local End Time\"              \n",
       " [4] \"01 - Rental Details Bike ID\"                     \n",
       " [5] \"01 - Rental Details Duration In Seconds Uncapped\"\n",
       " [6] \"03 - Rental Start Station ID\"                    \n",
       " [7] \"03 - Rental Start Station Name\"                  \n",
       " [8] \"02 - Rental End Station ID\"                      \n",
       " [9] \"02 - Rental End Station Name\"                    \n",
       "[10] \"User Type\"                                       \n",
       "[11] \"Member Gender\"                                   \n",
       "[12] \"05 - Member Details Member Birthday Year\"        "
      ]
     },
     "metadata": {},
     "output_type": "display_data"
    }
   ],
   "source": [
    "# Wrangling data and combining into single file\n",
    "# Comparing column names for each dataset. \n",
    "# N.B. While the names don't have to be in the same order, they DO need to match perfectly in order to join them into one file\n",
    "\n",
    "colnames(q2_2019)"
   ]
  },
  {
   "cell_type": "code",
   "execution_count": 4,
   "id": "0e1109fb",
   "metadata": {
    "_cell_guid": "442bfd36-179e-4047-b73d-ffbee3265c18",
    "_kg_hide-output": false,
    "_uuid": "12a01942-ad13-4b51-9527-a7de61b66e40",
    "collapsed": false,
    "execution": {
     "iopub.execute_input": "2024-03-13T06:04:02.875399Z",
     "iopub.status.busy": "2024-03-13T06:04:02.873752Z",
     "iopub.status.idle": "2024-03-13T06:04:02.893069Z",
     "shell.execute_reply": "2024-03-13T06:04:02.890604Z"
    },
    "jupyter": {
     "outputs_hidden": false
    },
    "papermill": {
     "duration": 0.044804,
     "end_time": "2024-03-13T06:04:02.896504",
     "exception": false,
     "start_time": "2024-03-13T06:04:02.851700",
     "status": "completed"
    },
    "tags": []
   },
   "outputs": [
    {
     "data": {
      "text/html": [
       "<style>\n",
       ".list-inline {list-style: none; margin:0; padding: 0}\n",
       ".list-inline>li {display: inline-block}\n",
       ".list-inline>li:not(:last-child)::after {content: \"\\00b7\"; padding: 0 .5ex}\n",
       "</style>\n",
       "<ol class=list-inline><li>'trip_id'</li><li>'start_time'</li><li>'end_time'</li><li>'bikeid'</li><li>'tripduration'</li><li>'from_station_id'</li><li>'from_station_name'</li><li>'to_station_id'</li><li>'to_station_name'</li><li>'usertype'</li><li>'gender'</li><li>'birthyear'</li></ol>\n"
      ],
      "text/latex": [
       "\\begin{enumerate*}\n",
       "\\item 'trip\\_id'\n",
       "\\item 'start\\_time'\n",
       "\\item 'end\\_time'\n",
       "\\item 'bikeid'\n",
       "\\item 'tripduration'\n",
       "\\item 'from\\_station\\_id'\n",
       "\\item 'from\\_station\\_name'\n",
       "\\item 'to\\_station\\_id'\n",
       "\\item 'to\\_station\\_name'\n",
       "\\item 'usertype'\n",
       "\\item 'gender'\n",
       "\\item 'birthyear'\n",
       "\\end{enumerate*}\n"
      ],
      "text/markdown": [
       "1. 'trip_id'\n",
       "2. 'start_time'\n",
       "3. 'end_time'\n",
       "4. 'bikeid'\n",
       "5. 'tripduration'\n",
       "6. 'from_station_id'\n",
       "7. 'from_station_name'\n",
       "8. 'to_station_id'\n",
       "9. 'to_station_name'\n",
       "10. 'usertype'\n",
       "11. 'gender'\n",
       "12. 'birthyear'\n",
       "\n",
       "\n"
      ],
      "text/plain": [
       " [1] \"trip_id\"           \"start_time\"        \"end_time\"         \n",
       " [4] \"bikeid\"            \"tripduration\"      \"from_station_id\"  \n",
       " [7] \"from_station_name\" \"to_station_id\"     \"to_station_name\"  \n",
       "[10] \"usertype\"          \"gender\"            \"birthyear\"        "
      ]
     },
     "metadata": {},
     "output_type": "display_data"
    }
   ],
   "source": [
    "colnames(q3_2019)"
   ]
  },
  {
   "cell_type": "code",
   "execution_count": 5,
   "id": "5319fcdc",
   "metadata": {
    "_cell_guid": "3ba737c4-eb1f-45a4-bb68-fc8887ecf0b8",
    "_uuid": "413988c2-08b4-4274-922f-913b3d23ae9f",
    "collapsed": false,
    "execution": {
     "iopub.execute_input": "2024-03-13T06:04:02.940580Z",
     "iopub.status.busy": "2024-03-13T06:04:02.938768Z",
     "iopub.status.idle": "2024-03-13T06:04:03.072121Z",
     "shell.execute_reply": "2024-03-13T06:04:03.070266Z"
    },
    "jupyter": {
     "outputs_hidden": false
    },
    "papermill": {
     "duration": 0.158028,
     "end_time": "2024-03-13T06:04:03.074646",
     "exception": false,
     "start_time": "2024-03-13T06:04:02.916618",
     "status": "completed"
    },
    "tags": []
   },
   "outputs": [
    {
     "data": {
      "text/html": [
       "<style>\n",
       ".list-inline {list-style: none; margin:0; padding: 0}\n",
       ".list-inline>li {display: inline-block}\n",
       ".list-inline>li:not(:last-child)::after {content: \"\\00b7\"; padding: 0 .5ex}\n",
       "</style>\n",
       "<ol class=list-inline><li>'trip_id'</li><li>'start_time'</li><li>'end_time'</li><li>'bikeid'</li><li>'tripduration'</li><li>'from_station_id'</li><li>'from_station_name'</li><li>'to_station_id'</li><li>'to_station_name'</li><li>'usertype'</li><li>'gender'</li><li>'birthyear'</li></ol>\n"
      ],
      "text/latex": [
       "\\begin{enumerate*}\n",
       "\\item 'trip\\_id'\n",
       "\\item 'start\\_time'\n",
       "\\item 'end\\_time'\n",
       "\\item 'bikeid'\n",
       "\\item 'tripduration'\n",
       "\\item 'from\\_station\\_id'\n",
       "\\item 'from\\_station\\_name'\n",
       "\\item 'to\\_station\\_id'\n",
       "\\item 'to\\_station\\_name'\n",
       "\\item 'usertype'\n",
       "\\item 'gender'\n",
       "\\item 'birthyear'\n",
       "\\end{enumerate*}\n"
      ],
      "text/markdown": [
       "1. 'trip_id'\n",
       "2. 'start_time'\n",
       "3. 'end_time'\n",
       "4. 'bikeid'\n",
       "5. 'tripduration'\n",
       "6. 'from_station_id'\n",
       "7. 'from_station_name'\n",
       "8. 'to_station_id'\n",
       "9. 'to_station_name'\n",
       "10. 'usertype'\n",
       "11. 'gender'\n",
       "12. 'birthyear'\n",
       "\n",
       "\n"
      ],
      "text/plain": [
       " [1] \"trip_id\"           \"start_time\"        \"end_time\"         \n",
       " [4] \"bikeid\"            \"tripduration\"      \"from_station_id\"  \n",
       " [7] \"from_station_name\" \"to_station_id\"     \"to_station_name\"  \n",
       "[10] \"usertype\"          \"gender\"            \"birthyear\"        "
      ]
     },
     "metadata": {},
     "output_type": "display_data"
    }
   ],
   "source": [
    "colnames(q4_2019)"
   ]
  },
  {
   "cell_type": "code",
   "execution_count": 6,
   "id": "bcc40ef3",
   "metadata": {
    "_cell_guid": "a58b9eee-de9a-4e64-9e32-0b0f5198188c",
    "_uuid": "560018ce-5cdd-4752-992c-35c52dca1fbe",
    "collapsed": false,
    "execution": {
     "iopub.execute_input": "2024-03-13T06:04:03.119022Z",
     "iopub.status.busy": "2024-03-13T06:04:03.117398Z",
     "iopub.status.idle": "2024-03-13T06:04:03.136704Z",
     "shell.execute_reply": "2024-03-13T06:04:03.134978Z"
    },
    "jupyter": {
     "outputs_hidden": false
    },
    "papermill": {
     "duration": 0.044047,
     "end_time": "2024-03-13T06:04:03.139153",
     "exception": false,
     "start_time": "2024-03-13T06:04:03.095106",
     "status": "completed"
    },
    "tags": []
   },
   "outputs": [
    {
     "data": {
      "text/html": [
       "<style>\n",
       ".list-inline {list-style: none; margin:0; padding: 0}\n",
       ".list-inline>li {display: inline-block}\n",
       ".list-inline>li:not(:last-child)::after {content: \"\\00b7\"; padding: 0 .5ex}\n",
       "</style>\n",
       "<ol class=list-inline><li>'ride_id'</li><li>'rideable_type'</li><li>'started_at'</li><li>'ended_at'</li><li>'start_station_name'</li><li>'start_station_id'</li><li>'end_station_name'</li><li>'end_station_id'</li><li>'start_lat'</li><li>'start_lng'</li><li>'end_lat'</li><li>'end_lng'</li><li>'member_casual'</li></ol>\n"
      ],
      "text/latex": [
       "\\begin{enumerate*}\n",
       "\\item 'ride\\_id'\n",
       "\\item 'rideable\\_type'\n",
       "\\item 'started\\_at'\n",
       "\\item 'ended\\_at'\n",
       "\\item 'start\\_station\\_name'\n",
       "\\item 'start\\_station\\_id'\n",
       "\\item 'end\\_station\\_name'\n",
       "\\item 'end\\_station\\_id'\n",
       "\\item 'start\\_lat'\n",
       "\\item 'start\\_lng'\n",
       "\\item 'end\\_lat'\n",
       "\\item 'end\\_lng'\n",
       "\\item 'member\\_casual'\n",
       "\\end{enumerate*}\n"
      ],
      "text/markdown": [
       "1. 'ride_id'\n",
       "2. 'rideable_type'\n",
       "3. 'started_at'\n",
       "4. 'ended_at'\n",
       "5. 'start_station_name'\n",
       "6. 'start_station_id'\n",
       "7. 'end_station_name'\n",
       "8. 'end_station_id'\n",
       "9. 'start_lat'\n",
       "10. 'start_lng'\n",
       "11. 'end_lat'\n",
       "12. 'end_lng'\n",
       "13. 'member_casual'\n",
       "\n",
       "\n"
      ],
      "text/plain": [
       " [1] \"ride_id\"            \"rideable_type\"      \"started_at\"        \n",
       " [4] \"ended_at\"           \"start_station_name\" \"start_station_id\"  \n",
       " [7] \"end_station_name\"   \"end_station_id\"     \"start_lat\"         \n",
       "[10] \"start_lng\"          \"end_lat\"            \"end_lng\"           \n",
       "[13] \"member_casual\"     "
      ]
     },
     "metadata": {},
     "output_type": "display_data"
    }
   ],
   "source": [
    "colnames(q1_2020)"
   ]
  },
  {
   "cell_type": "code",
   "execution_count": 7,
   "id": "1f9a9d3c",
   "metadata": {
    "_cell_guid": "3e3ffe41-5c51-429e-ad69-f7b5787d25a6",
    "_kg_hide-output": false,
    "_uuid": "820147ae-2eda-4161-8efc-2e41e7aac74c",
    "collapsed": false,
    "execution": {
     "iopub.execute_input": "2024-03-13T06:04:03.184404Z",
     "iopub.status.busy": "2024-03-13T06:04:03.182721Z",
     "iopub.status.idle": "2024-03-13T06:04:03.573056Z",
     "shell.execute_reply": "2024-03-13T06:04:03.571232Z"
    },
    "jupyter": {
     "outputs_hidden": false
    },
    "papermill": {
     "duration": 0.416038,
     "end_time": "2024-03-13T06:04:03.575727",
     "exception": false,
     "start_time": "2024-03-13T06:04:03.159689",
     "status": "completed"
    },
    "tags": []
   },
   "outputs": [
    {
     "data": {
      "text/html": [
       "<table class=\"dataframe\">\n",
       "<caption>A tibble: 6 × 12</caption>\n",
       "<thead>\n",
       "\t<tr><th scope=col>ride_id</th><th scope=col>started_at</th><th scope=col>ended_at</th><th scope=col>rideable_type</th><th scope=col>01 - Rental Details Duration In Seconds Uncapped</th><th scope=col>start_station_id</th><th scope=col>start_station_name</th><th scope=col>end_station_id</th><th scope=col>end_station_name</th><th scope=col>member_casual</th><th scope=col>Member Gender</th><th scope=col>05 - Member Details Member Birthday Year</th></tr>\n",
       "\t<tr><th scope=col>&lt;dbl&gt;</th><th scope=col>&lt;dttm&gt;</th><th scope=col>&lt;dttm&gt;</th><th scope=col>&lt;dbl&gt;</th><th scope=col>&lt;dbl&gt;</th><th scope=col>&lt;dbl&gt;</th><th scope=col>&lt;chr&gt;</th><th scope=col>&lt;dbl&gt;</th><th scope=col>&lt;chr&gt;</th><th scope=col>&lt;chr&gt;</th><th scope=col>&lt;chr&gt;</th><th scope=col>&lt;dbl&gt;</th></tr>\n",
       "</thead>\n",
       "<tbody>\n",
       "\t<tr><td>22178529</td><td>2019-04-01 00:02:22</td><td>2019-04-01 00:09:48</td><td>6251</td><td> 446</td><td> 81</td><td><span style=white-space:pre-wrap>Daley Center Plaza       </span></td><td> 56</td><td>Desplaines St &amp; Kinzie St</td><td>Subscriber</td><td><span style=white-space:pre-wrap>Male  </span></td><td>1975</td></tr>\n",
       "\t<tr><td>22178530</td><td>2019-04-01 00:03:02</td><td>2019-04-01 00:20:30</td><td>6226</td><td>1048</td><td>317</td><td><span style=white-space:pre-wrap>Wood St &amp; Taylor St      </span></td><td> 59</td><td>Wabash Ave &amp; Roosevelt Rd</td><td>Subscriber</td><td>Female</td><td>1984</td></tr>\n",
       "\t<tr><td>22178531</td><td>2019-04-01 00:11:07</td><td>2019-04-01 00:15:19</td><td>5649</td><td> 252</td><td>283</td><td>LaSalle St &amp; Jackson Blvd</td><td>174</td><td><span style=white-space:pre-wrap>Canal St &amp; Madison St    </span></td><td>Subscriber</td><td><span style=white-space:pre-wrap>Male  </span></td><td>1990</td></tr>\n",
       "\t<tr><td>22178532</td><td>2019-04-01 00:13:01</td><td>2019-04-01 00:18:58</td><td>4151</td><td> 357</td><td> 26</td><td>McClurg Ct &amp; Illinois St </td><td>133</td><td>Kingsbury St &amp; Kinzie St </td><td>Subscriber</td><td><span style=white-space:pre-wrap>Male  </span></td><td>1993</td></tr>\n",
       "\t<tr><td>22178533</td><td>2019-04-01 00:19:26</td><td>2019-04-01 00:36:13</td><td>3270</td><td>1007</td><td>202</td><td><span style=white-space:pre-wrap>Halsted St &amp; 18th St     </span></td><td>129</td><td>Blue Island Ave &amp; 18th St</td><td>Subscriber</td><td><span style=white-space:pre-wrap>Male  </span></td><td>1992</td></tr>\n",
       "\t<tr><td>22178534</td><td>2019-04-01 00:19:39</td><td>2019-04-01 00:23:56</td><td>3123</td><td> 257</td><td>420</td><td><span style=white-space:pre-wrap>Ellis Ave &amp; 55th St      </span></td><td>426</td><td><span style=white-space:pre-wrap>Ellis Ave &amp; 60th St      </span></td><td>Subscriber</td><td><span style=white-space:pre-wrap>Male  </span></td><td>1999</td></tr>\n",
       "</tbody>\n",
       "</table>\n"
      ],
      "text/latex": [
       "A tibble: 6 × 12\n",
       "\\begin{tabular}{llllllllllll}\n",
       " ride\\_id & started\\_at & ended\\_at & rideable\\_type & 01 - Rental Details Duration In Seconds Uncapped & start\\_station\\_id & start\\_station\\_name & end\\_station\\_id & end\\_station\\_name & member\\_casual & Member Gender & 05 - Member Details Member Birthday Year\\\\\n",
       " <dbl> & <dttm> & <dttm> & <dbl> & <dbl> & <dbl> & <chr> & <dbl> & <chr> & <chr> & <chr> & <dbl>\\\\\n",
       "\\hline\n",
       "\t 22178529 & 2019-04-01 00:02:22 & 2019-04-01 00:09:48 & 6251 &  446 &  81 & Daley Center Plaza        &  56 & Desplaines St \\& Kinzie St & Subscriber & Male   & 1975\\\\\n",
       "\t 22178530 & 2019-04-01 00:03:02 & 2019-04-01 00:20:30 & 6226 & 1048 & 317 & Wood St \\& Taylor St       &  59 & Wabash Ave \\& Roosevelt Rd & Subscriber & Female & 1984\\\\\n",
       "\t 22178531 & 2019-04-01 00:11:07 & 2019-04-01 00:15:19 & 5649 &  252 & 283 & LaSalle St \\& Jackson Blvd & 174 & Canal St \\& Madison St     & Subscriber & Male   & 1990\\\\\n",
       "\t 22178532 & 2019-04-01 00:13:01 & 2019-04-01 00:18:58 & 4151 &  357 &  26 & McClurg Ct \\& Illinois St  & 133 & Kingsbury St \\& Kinzie St  & Subscriber & Male   & 1993\\\\\n",
       "\t 22178533 & 2019-04-01 00:19:26 & 2019-04-01 00:36:13 & 3270 & 1007 & 202 & Halsted St \\& 18th St      & 129 & Blue Island Ave \\& 18th St & Subscriber & Male   & 1992\\\\\n",
       "\t 22178534 & 2019-04-01 00:19:39 & 2019-04-01 00:23:56 & 3123 &  257 & 420 & Ellis Ave \\& 55th St       & 426 & Ellis Ave \\& 60th St       & Subscriber & Male   & 1999\\\\\n",
       "\\end{tabular}\n"
      ],
      "text/markdown": [
       "\n",
       "A tibble: 6 × 12\n",
       "\n",
       "| ride_id &lt;dbl&gt; | started_at &lt;dttm&gt; | ended_at &lt;dttm&gt; | rideable_type &lt;dbl&gt; | 01 - Rental Details Duration In Seconds Uncapped &lt;dbl&gt; | start_station_id &lt;dbl&gt; | start_station_name &lt;chr&gt; | end_station_id &lt;dbl&gt; | end_station_name &lt;chr&gt; | member_casual &lt;chr&gt; | Member Gender &lt;chr&gt; | 05 - Member Details Member Birthday Year &lt;dbl&gt; |\n",
       "|---|---|---|---|---|---|---|---|---|---|---|---|\n",
       "| 22178529 | 2019-04-01 00:02:22 | 2019-04-01 00:09:48 | 6251 |  446 |  81 | Daley Center Plaza        |  56 | Desplaines St &amp; Kinzie St | Subscriber | Male   | 1975 |\n",
       "| 22178530 | 2019-04-01 00:03:02 | 2019-04-01 00:20:30 | 6226 | 1048 | 317 | Wood St &amp; Taylor St       |  59 | Wabash Ave &amp; Roosevelt Rd | Subscriber | Female | 1984 |\n",
       "| 22178531 | 2019-04-01 00:11:07 | 2019-04-01 00:15:19 | 5649 |  252 | 283 | LaSalle St &amp; Jackson Blvd | 174 | Canal St &amp; Madison St     | Subscriber | Male   | 1990 |\n",
       "| 22178532 | 2019-04-01 00:13:01 | 2019-04-01 00:18:58 | 4151 |  357 |  26 | McClurg Ct &amp; Illinois St  | 133 | Kingsbury St &amp; Kinzie St  | Subscriber | Male   | 1993 |\n",
       "| 22178533 | 2019-04-01 00:19:26 | 2019-04-01 00:36:13 | 3270 | 1007 | 202 | Halsted St &amp; 18th St      | 129 | Blue Island Ave &amp; 18th St | Subscriber | Male   | 1992 |\n",
       "| 22178534 | 2019-04-01 00:19:39 | 2019-04-01 00:23:56 | 3123 |  257 | 420 | Ellis Ave &amp; 55th St       | 426 | Ellis Ave &amp; 60th St       | Subscriber | Male   | 1999 |\n",
       "\n"
      ],
      "text/plain": [
       "  ride_id  started_at          ended_at            rideable_type\n",
       "1 22178529 2019-04-01 00:02:22 2019-04-01 00:09:48 6251         \n",
       "2 22178530 2019-04-01 00:03:02 2019-04-01 00:20:30 6226         \n",
       "3 22178531 2019-04-01 00:11:07 2019-04-01 00:15:19 5649         \n",
       "4 22178532 2019-04-01 00:13:01 2019-04-01 00:18:58 4151         \n",
       "5 22178533 2019-04-01 00:19:26 2019-04-01 00:36:13 3270         \n",
       "6 22178534 2019-04-01 00:19:39 2019-04-01 00:23:56 3123         \n",
       "  01 - Rental Details Duration In Seconds Uncapped start_station_id\n",
       "1  446                                              81             \n",
       "2 1048                                             317             \n",
       "3  252                                             283             \n",
       "4  357                                              26             \n",
       "5 1007                                             202             \n",
       "6  257                                             420             \n",
       "  start_station_name        end_station_id end_station_name         \n",
       "1 Daley Center Plaza         56            Desplaines St & Kinzie St\n",
       "2 Wood St & Taylor St        59            Wabash Ave & Roosevelt Rd\n",
       "3 LaSalle St & Jackson Blvd 174            Canal St & Madison St    \n",
       "4 McClurg Ct & Illinois St  133            Kingsbury St & Kinzie St \n",
       "5 Halsted St & 18th St      129            Blue Island Ave & 18th St\n",
       "6 Ellis Ave & 55th St       426            Ellis Ave & 60th St      \n",
       "  member_casual Member Gender 05 - Member Details Member Birthday Year\n",
       "1 Subscriber    Male          1975                                    \n",
       "2 Subscriber    Female        1984                                    \n",
       "3 Subscriber    Male          1990                                    \n",
       "4 Subscriber    Male          1993                                    \n",
       "5 Subscriber    Male          1992                                    \n",
       "6 Subscriber    Male          1999                                    "
      ]
     },
     "metadata": {},
     "output_type": "display_data"
    },
    {
     "data": {
      "text/html": [
       "<table class=\"dataframe\">\n",
       "<caption>A tibble: 6 × 12</caption>\n",
       "<thead>\n",
       "\t<tr><th scope=col>ride_id</th><th scope=col>started_at</th><th scope=col>ended_at</th><th scope=col>rideable_type</th><th scope=col>tripduration</th><th scope=col>start_station_id</th><th scope=col>start_station_name</th><th scope=col>end_station_id</th><th scope=col>end_station_name</th><th scope=col>member_casual</th><th scope=col>gender</th><th scope=col>birthyear</th></tr>\n",
       "\t<tr><th scope=col>&lt;dbl&gt;</th><th scope=col>&lt;dttm&gt;</th><th scope=col>&lt;dttm&gt;</th><th scope=col>&lt;dbl&gt;</th><th scope=col>&lt;dbl&gt;</th><th scope=col>&lt;dbl&gt;</th><th scope=col>&lt;chr&gt;</th><th scope=col>&lt;dbl&gt;</th><th scope=col>&lt;chr&gt;</th><th scope=col>&lt;chr&gt;</th><th scope=col>&lt;chr&gt;</th><th scope=col>&lt;dbl&gt;</th></tr>\n",
       "</thead>\n",
       "<tbody>\n",
       "\t<tr><td>23479388</td><td>2019-07-01 00:00:27</td><td>2019-07-01 00:20:41</td><td>3591</td><td>1214</td><td>117</td><td><span style=white-space:pre-wrap>Wilton Ave &amp; Belmont Ave     </span></td><td>497</td><td><span style=white-space:pre-wrap>Kimball Ave &amp; Belmont Ave    </span></td><td>Subscriber</td><td>Male</td><td>1992</td></tr>\n",
       "\t<tr><td>23479389</td><td>2019-07-01 00:01:16</td><td>2019-07-01 00:18:44</td><td>5353</td><td>1048</td><td>381</td><td><span style=white-space:pre-wrap>Western Ave &amp; Monroe St      </span></td><td>203</td><td><span style=white-space:pre-wrap>Western Ave &amp; 21st St        </span></td><td><span style=white-space:pre-wrap>Customer  </span></td><td><span style=white-space:pre-wrap>NA  </span></td><td><span style=white-space:pre-wrap>  NA</span></td></tr>\n",
       "\t<tr><td>23479390</td><td>2019-07-01 00:01:48</td><td>2019-07-01 00:27:42</td><td>6180</td><td>1554</td><td>313</td><td>Lakeview Ave &amp; Fullerton Pkwy</td><td>144</td><td><span style=white-space:pre-wrap>Larrabee St &amp; Webster Ave    </span></td><td><span style=white-space:pre-wrap>Customer  </span></td><td><span style=white-space:pre-wrap>NA  </span></td><td><span style=white-space:pre-wrap>  NA</span></td></tr>\n",
       "\t<tr><td>23479391</td><td>2019-07-01 00:02:07</td><td>2019-07-01 00:27:10</td><td>5540</td><td>1503</td><td>313</td><td>Lakeview Ave &amp; Fullerton Pkwy</td><td>144</td><td><span style=white-space:pre-wrap>Larrabee St &amp; Webster Ave    </span></td><td><span style=white-space:pre-wrap>Customer  </span></td><td><span style=white-space:pre-wrap>NA  </span></td><td><span style=white-space:pre-wrap>  NA</span></td></tr>\n",
       "\t<tr><td>23479392</td><td>2019-07-01 00:02:13</td><td>2019-07-01 00:22:26</td><td>6014</td><td>1213</td><td>168</td><td><span style=white-space:pre-wrap>Michigan Ave &amp; 14th St       </span></td><td> 62</td><td><span style=white-space:pre-wrap>McCormick Place              </span></td><td><span style=white-space:pre-wrap>Customer  </span></td><td><span style=white-space:pre-wrap>NA  </span></td><td><span style=white-space:pre-wrap>  NA</span></td></tr>\n",
       "\t<tr><td>23479393</td><td>2019-07-01 00:02:21</td><td>2019-07-01 00:07:31</td><td>4941</td><td> 310</td><td>300</td><td><span style=white-space:pre-wrap>Broadway &amp; Barry Ave         </span></td><td>232</td><td>Pine Grove Ave &amp; Waveland Ave</td><td>Subscriber</td><td>Male</td><td>1990</td></tr>\n",
       "</tbody>\n",
       "</table>\n"
      ],
      "text/latex": [
       "A tibble: 6 × 12\n",
       "\\begin{tabular}{llllllllllll}\n",
       " ride\\_id & started\\_at & ended\\_at & rideable\\_type & tripduration & start\\_station\\_id & start\\_station\\_name & end\\_station\\_id & end\\_station\\_name & member\\_casual & gender & birthyear\\\\\n",
       " <dbl> & <dttm> & <dttm> & <dbl> & <dbl> & <dbl> & <chr> & <dbl> & <chr> & <chr> & <chr> & <dbl>\\\\\n",
       "\\hline\n",
       "\t 23479388 & 2019-07-01 00:00:27 & 2019-07-01 00:20:41 & 3591 & 1214 & 117 & Wilton Ave \\& Belmont Ave      & 497 & Kimball Ave \\& Belmont Ave     & Subscriber & Male & 1992\\\\\n",
       "\t 23479389 & 2019-07-01 00:01:16 & 2019-07-01 00:18:44 & 5353 & 1048 & 381 & Western Ave \\& Monroe St       & 203 & Western Ave \\& 21st St         & Customer   & NA   &   NA\\\\\n",
       "\t 23479390 & 2019-07-01 00:01:48 & 2019-07-01 00:27:42 & 6180 & 1554 & 313 & Lakeview Ave \\& Fullerton Pkwy & 144 & Larrabee St \\& Webster Ave     & Customer   & NA   &   NA\\\\\n",
       "\t 23479391 & 2019-07-01 00:02:07 & 2019-07-01 00:27:10 & 5540 & 1503 & 313 & Lakeview Ave \\& Fullerton Pkwy & 144 & Larrabee St \\& Webster Ave     & Customer   & NA   &   NA\\\\\n",
       "\t 23479392 & 2019-07-01 00:02:13 & 2019-07-01 00:22:26 & 6014 & 1213 & 168 & Michigan Ave \\& 14th St        &  62 & McCormick Place               & Customer   & NA   &   NA\\\\\n",
       "\t 23479393 & 2019-07-01 00:02:21 & 2019-07-01 00:07:31 & 4941 &  310 & 300 & Broadway \\& Barry Ave          & 232 & Pine Grove Ave \\& Waveland Ave & Subscriber & Male & 1990\\\\\n",
       "\\end{tabular}\n"
      ],
      "text/markdown": [
       "\n",
       "A tibble: 6 × 12\n",
       "\n",
       "| ride_id &lt;dbl&gt; | started_at &lt;dttm&gt; | ended_at &lt;dttm&gt; | rideable_type &lt;dbl&gt; | tripduration &lt;dbl&gt; | start_station_id &lt;dbl&gt; | start_station_name &lt;chr&gt; | end_station_id &lt;dbl&gt; | end_station_name &lt;chr&gt; | member_casual &lt;chr&gt; | gender &lt;chr&gt; | birthyear &lt;dbl&gt; |\n",
       "|---|---|---|---|---|---|---|---|---|---|---|---|\n",
       "| 23479388 | 2019-07-01 00:00:27 | 2019-07-01 00:20:41 | 3591 | 1214 | 117 | Wilton Ave &amp; Belmont Ave      | 497 | Kimball Ave &amp; Belmont Ave     | Subscriber | Male | 1992 |\n",
       "| 23479389 | 2019-07-01 00:01:16 | 2019-07-01 00:18:44 | 5353 | 1048 | 381 | Western Ave &amp; Monroe St       | 203 | Western Ave &amp; 21st St         | Customer   | NA   |   NA |\n",
       "| 23479390 | 2019-07-01 00:01:48 | 2019-07-01 00:27:42 | 6180 | 1554 | 313 | Lakeview Ave &amp; Fullerton Pkwy | 144 | Larrabee St &amp; Webster Ave     | Customer   | NA   |   NA |\n",
       "| 23479391 | 2019-07-01 00:02:07 | 2019-07-01 00:27:10 | 5540 | 1503 | 313 | Lakeview Ave &amp; Fullerton Pkwy | 144 | Larrabee St &amp; Webster Ave     | Customer   | NA   |   NA |\n",
       "| 23479392 | 2019-07-01 00:02:13 | 2019-07-01 00:22:26 | 6014 | 1213 | 168 | Michigan Ave &amp; 14th St        |  62 | McCormick Place               | Customer   | NA   |   NA |\n",
       "| 23479393 | 2019-07-01 00:02:21 | 2019-07-01 00:07:31 | 4941 |  310 | 300 | Broadway &amp; Barry Ave          | 232 | Pine Grove Ave &amp; Waveland Ave | Subscriber | Male | 1990 |\n",
       "\n"
      ],
      "text/plain": [
       "  ride_id  started_at          ended_at            rideable_type tripduration\n",
       "1 23479388 2019-07-01 00:00:27 2019-07-01 00:20:41 3591          1214        \n",
       "2 23479389 2019-07-01 00:01:16 2019-07-01 00:18:44 5353          1048        \n",
       "3 23479390 2019-07-01 00:01:48 2019-07-01 00:27:42 6180          1554        \n",
       "4 23479391 2019-07-01 00:02:07 2019-07-01 00:27:10 5540          1503        \n",
       "5 23479392 2019-07-01 00:02:13 2019-07-01 00:22:26 6014          1213        \n",
       "6 23479393 2019-07-01 00:02:21 2019-07-01 00:07:31 4941           310        \n",
       "  start_station_id start_station_name            end_station_id\n",
       "1 117              Wilton Ave & Belmont Ave      497           \n",
       "2 381              Western Ave & Monroe St       203           \n",
       "3 313              Lakeview Ave & Fullerton Pkwy 144           \n",
       "4 313              Lakeview Ave & Fullerton Pkwy 144           \n",
       "5 168              Michigan Ave & 14th St         62           \n",
       "6 300              Broadway & Barry Ave          232           \n",
       "  end_station_name              member_casual gender birthyear\n",
       "1 Kimball Ave & Belmont Ave     Subscriber    Male   1992     \n",
       "2 Western Ave & 21st St         Customer      NA       NA     \n",
       "3 Larrabee St & Webster Ave     Customer      NA       NA     \n",
       "4 Larrabee St & Webster Ave     Customer      NA       NA     \n",
       "5 McCormick Place               Customer      NA       NA     \n",
       "6 Pine Grove Ave & Waveland Ave Subscriber    Male   1990     "
      ]
     },
     "metadata": {},
     "output_type": "display_data"
    },
    {
     "data": {
      "text/html": [
       "<table class=\"dataframe\">\n",
       "<caption>A tibble: 6 × 12</caption>\n",
       "<thead>\n",
       "\t<tr><th scope=col>ride_id</th><th scope=col>started_at</th><th scope=col>ended_at</th><th scope=col>rideable_type</th><th scope=col>tripduration</th><th scope=col>start_station_id</th><th scope=col>start_station_name</th><th scope=col>end_station_id</th><th scope=col>end_station_name</th><th scope=col>member_casual</th><th scope=col>gender</th><th scope=col>birthyear</th></tr>\n",
       "\t<tr><th scope=col>&lt;dbl&gt;</th><th scope=col>&lt;dttm&gt;</th><th scope=col>&lt;dttm&gt;</th><th scope=col>&lt;dbl&gt;</th><th scope=col>&lt;dbl&gt;</th><th scope=col>&lt;dbl&gt;</th><th scope=col>&lt;chr&gt;</th><th scope=col>&lt;dbl&gt;</th><th scope=col>&lt;chr&gt;</th><th scope=col>&lt;chr&gt;</th><th scope=col>&lt;chr&gt;</th><th scope=col>&lt;dbl&gt;</th></tr>\n",
       "</thead>\n",
       "<tbody>\n",
       "\t<tr><td>25223640</td><td>2019-10-01 00:01:39</td><td>2019-10-01 00:17:20</td><td>2215</td><td> 940</td><td> 20</td><td><span style=white-space:pre-wrap>Sheffield Ave &amp; Kingsbury St  </span></td><td>309</td><td><span style=white-space:pre-wrap>Leavitt St &amp; Armitage Ave  </span></td><td>Subscriber</td><td><span style=white-space:pre-wrap>Male  </span></td><td>1987</td></tr>\n",
       "\t<tr><td>25223641</td><td>2019-10-01 00:02:16</td><td>2019-10-01 00:06:34</td><td>6328</td><td> 258</td><td> 19</td><td>Throop (Loomis) St &amp; Taylor St</td><td>241</td><td><span style=white-space:pre-wrap>Morgan St &amp; Polk St        </span></td><td>Subscriber</td><td><span style=white-space:pre-wrap>Male  </span></td><td>1998</td></tr>\n",
       "\t<tr><td>25223642</td><td>2019-10-01 00:04:32</td><td>2019-10-01 00:18:43</td><td>3003</td><td> 850</td><td> 84</td><td><span style=white-space:pre-wrap>Milwaukee Ave &amp; Grand Ave     </span></td><td>199</td><td><span style=white-space:pre-wrap>Wabash Ave &amp; Grand Ave     </span></td><td>Subscriber</td><td>Female</td><td>1991</td></tr>\n",
       "\t<tr><td>25223643</td><td>2019-10-01 00:04:32</td><td>2019-10-01 00:43:43</td><td>3275</td><td>2350</td><td>313</td><td>Lakeview Ave &amp; Fullerton Pkwy </td><td>290</td><td><span style=white-space:pre-wrap>Kedzie Ave &amp; Palmer Ct     </span></td><td>Subscriber</td><td><span style=white-space:pre-wrap>Male  </span></td><td>1990</td></tr>\n",
       "\t<tr><td>25223644</td><td>2019-10-01 00:04:34</td><td>2019-10-01 00:35:42</td><td>5294</td><td>1867</td><td>210</td><td><span style=white-space:pre-wrap>Ashland Ave &amp; Division St     </span></td><td>382</td><td>Western Ave &amp; Congress Pkwy</td><td>Subscriber</td><td><span style=white-space:pre-wrap>Male  </span></td><td>1987</td></tr>\n",
       "\t<tr><td>25223645</td><td>2019-10-01 00:04:38</td><td>2019-10-01 00:10:51</td><td>1891</td><td> 373</td><td>156</td><td><span style=white-space:pre-wrap>Clark St &amp; Wellington Ave     </span></td><td>226</td><td><span style=white-space:pre-wrap>Racine Ave &amp; Belmont Ave   </span></td><td>Subscriber</td><td>Female</td><td>1994</td></tr>\n",
       "</tbody>\n",
       "</table>\n"
      ],
      "text/latex": [
       "A tibble: 6 × 12\n",
       "\\begin{tabular}{llllllllllll}\n",
       " ride\\_id & started\\_at & ended\\_at & rideable\\_type & tripduration & start\\_station\\_id & start\\_station\\_name & end\\_station\\_id & end\\_station\\_name & member\\_casual & gender & birthyear\\\\\n",
       " <dbl> & <dttm> & <dttm> & <dbl> & <dbl> & <dbl> & <chr> & <dbl> & <chr> & <chr> & <chr> & <dbl>\\\\\n",
       "\\hline\n",
       "\t 25223640 & 2019-10-01 00:01:39 & 2019-10-01 00:17:20 & 2215 &  940 &  20 & Sheffield Ave \\& Kingsbury St   & 309 & Leavitt St \\& Armitage Ave   & Subscriber & Male   & 1987\\\\\n",
       "\t 25223641 & 2019-10-01 00:02:16 & 2019-10-01 00:06:34 & 6328 &  258 &  19 & Throop (Loomis) St \\& Taylor St & 241 & Morgan St \\& Polk St         & Subscriber & Male   & 1998\\\\\n",
       "\t 25223642 & 2019-10-01 00:04:32 & 2019-10-01 00:18:43 & 3003 &  850 &  84 & Milwaukee Ave \\& Grand Ave      & 199 & Wabash Ave \\& Grand Ave      & Subscriber & Female & 1991\\\\\n",
       "\t 25223643 & 2019-10-01 00:04:32 & 2019-10-01 00:43:43 & 3275 & 2350 & 313 & Lakeview Ave \\& Fullerton Pkwy  & 290 & Kedzie Ave \\& Palmer Ct      & Subscriber & Male   & 1990\\\\\n",
       "\t 25223644 & 2019-10-01 00:04:34 & 2019-10-01 00:35:42 & 5294 & 1867 & 210 & Ashland Ave \\& Division St      & 382 & Western Ave \\& Congress Pkwy & Subscriber & Male   & 1987\\\\\n",
       "\t 25223645 & 2019-10-01 00:04:38 & 2019-10-01 00:10:51 & 1891 &  373 & 156 & Clark St \\& Wellington Ave      & 226 & Racine Ave \\& Belmont Ave    & Subscriber & Female & 1994\\\\\n",
       "\\end{tabular}\n"
      ],
      "text/markdown": [
       "\n",
       "A tibble: 6 × 12\n",
       "\n",
       "| ride_id &lt;dbl&gt; | started_at &lt;dttm&gt; | ended_at &lt;dttm&gt; | rideable_type &lt;dbl&gt; | tripduration &lt;dbl&gt; | start_station_id &lt;dbl&gt; | start_station_name &lt;chr&gt; | end_station_id &lt;dbl&gt; | end_station_name &lt;chr&gt; | member_casual &lt;chr&gt; | gender &lt;chr&gt; | birthyear &lt;dbl&gt; |\n",
       "|---|---|---|---|---|---|---|---|---|---|---|---|\n",
       "| 25223640 | 2019-10-01 00:01:39 | 2019-10-01 00:17:20 | 2215 |  940 |  20 | Sheffield Ave &amp; Kingsbury St   | 309 | Leavitt St &amp; Armitage Ave   | Subscriber | Male   | 1987 |\n",
       "| 25223641 | 2019-10-01 00:02:16 | 2019-10-01 00:06:34 | 6328 |  258 |  19 | Throop (Loomis) St &amp; Taylor St | 241 | Morgan St &amp; Polk St         | Subscriber | Male   | 1998 |\n",
       "| 25223642 | 2019-10-01 00:04:32 | 2019-10-01 00:18:43 | 3003 |  850 |  84 | Milwaukee Ave &amp; Grand Ave      | 199 | Wabash Ave &amp; Grand Ave      | Subscriber | Female | 1991 |\n",
       "| 25223643 | 2019-10-01 00:04:32 | 2019-10-01 00:43:43 | 3275 | 2350 | 313 | Lakeview Ave &amp; Fullerton Pkwy  | 290 | Kedzie Ave &amp; Palmer Ct      | Subscriber | Male   | 1990 |\n",
       "| 25223644 | 2019-10-01 00:04:34 | 2019-10-01 00:35:42 | 5294 | 1867 | 210 | Ashland Ave &amp; Division St      | 382 | Western Ave &amp; Congress Pkwy | Subscriber | Male   | 1987 |\n",
       "| 25223645 | 2019-10-01 00:04:38 | 2019-10-01 00:10:51 | 1891 |  373 | 156 | Clark St &amp; Wellington Ave      | 226 | Racine Ave &amp; Belmont Ave    | Subscriber | Female | 1994 |\n",
       "\n"
      ],
      "text/plain": [
       "  ride_id  started_at          ended_at            rideable_type tripduration\n",
       "1 25223640 2019-10-01 00:01:39 2019-10-01 00:17:20 2215           940        \n",
       "2 25223641 2019-10-01 00:02:16 2019-10-01 00:06:34 6328           258        \n",
       "3 25223642 2019-10-01 00:04:32 2019-10-01 00:18:43 3003           850        \n",
       "4 25223643 2019-10-01 00:04:32 2019-10-01 00:43:43 3275          2350        \n",
       "5 25223644 2019-10-01 00:04:34 2019-10-01 00:35:42 5294          1867        \n",
       "6 25223645 2019-10-01 00:04:38 2019-10-01 00:10:51 1891           373        \n",
       "  start_station_id start_station_name             end_station_id\n",
       "1  20              Sheffield Ave & Kingsbury St   309           \n",
       "2  19              Throop (Loomis) St & Taylor St 241           \n",
       "3  84              Milwaukee Ave & Grand Ave      199           \n",
       "4 313              Lakeview Ave & Fullerton Pkwy  290           \n",
       "5 210              Ashland Ave & Division St      382           \n",
       "6 156              Clark St & Wellington Ave      226           \n",
       "  end_station_name            member_casual gender birthyear\n",
       "1 Leavitt St & Armitage Ave   Subscriber    Male   1987     \n",
       "2 Morgan St & Polk St         Subscriber    Male   1998     \n",
       "3 Wabash Ave & Grand Ave      Subscriber    Female 1991     \n",
       "4 Kedzie Ave & Palmer Ct      Subscriber    Male   1990     \n",
       "5 Western Ave & Congress Pkwy Subscriber    Male   1987     \n",
       "6 Racine Ave & Belmont Ave    Subscriber    Female 1994     "
      ]
     },
     "metadata": {},
     "output_type": "display_data"
    }
   ],
   "source": [
    "# Renaming column names to make them consistent with q1_2020 \n",
    "\n",
    "(q2_2019 <-rename(q2_2019,\n",
    "                 ride_id = `01 - Rental Details Rental ID`,\n",
    "                 rideable_type = `01 - Rental Details Bike ID`,\n",
    "                 started_at = `01 - Rental Details Local Start Time`,\n",
    "                 ended_at = `01 - Rental Details Local End Time`,\n",
    "                 start_station_name = `03 - Rental Start Station Name`,\n",
    "                 start_station_id = `03 - Rental Start Station ID`,\n",
    "                 end_station_name = `02 - Rental End Station Name`,\n",
    "                 end_station_id = `02 - Rental End Station ID`,\n",
    "                 member_casual = `User Type`)) %>%\n",
    "head(6)\n",
    "\n",
    "\n",
    "(q3_2019 <- rename(q3_2019,\n",
    "                 ride_id = trip_id,\n",
    "                 rideable_type = bikeid,\n",
    "                 started_at = start_time,\n",
    "                 ended_at = end_time,\n",
    "                 start_station_name = from_station_name,\n",
    "                 start_station_id = from_station_id,\n",
    "                 end_station_name = to_station_name,\n",
    "                 end_station_id = to_station_id,\n",
    "                 member_casual = usertype)) %>%\n",
    "head(6)\n",
    "\n",
    "(q4_2019<-rename(q4_2019,\n",
    "                 ride_id=trip_id,\n",
    "                 rideable_type=bikeid,\n",
    "                 started_at=start_time,\n",
    "                 ended_at=end_time,\n",
    "                 start_station_name=from_station_name,\n",
    "                 start_station_id=from_station_id,\n",
    "                 end_station_name=to_station_name,\n",
    "                 end_station_id=to_station_id,\n",
    "                 member_casual=usertype))%>%\n",
    "head(6)\n",
    "\n"
   ]
  },
  {
   "cell_type": "code",
   "execution_count": 8,
   "id": "a3dc8479",
   "metadata": {
    "_cell_guid": "c2f5b234-9bc0-42af-8fcd-62d8c466a2eb",
    "_kg_hide-output": true,
    "_uuid": "2924f27e-8477-4b65-950d-861ee6fd5618",
    "collapsed": false,
    "execution": {
     "iopub.execute_input": "2024-03-13T06:04:03.623590Z",
     "iopub.status.busy": "2024-03-13T06:04:03.621867Z",
     "iopub.status.idle": "2024-03-13T06:04:03.765583Z",
     "shell.execute_reply": "2024-03-13T06:04:03.763653Z"
    },
    "jupyter": {
     "outputs_hidden": false
    },
    "papermill": {
     "duration": 0.170116,
     "end_time": "2024-03-13T06:04:03.768228",
     "exception": false,
     "start_time": "2024-03-13T06:04:03.598112",
     "status": "completed"
    },
    "tags": []
   },
   "outputs": [
    {
     "name": "stdout",
     "output_type": "stream",
     "text": [
      "spc_tbl_ [1,108,163 × 12] (S3: spec_tbl_df/tbl_df/tbl/data.frame)\n",
      " $ ride_id                                         : num [1:1108163] 22178529 22178530 22178531 22178532 22178533 ...\n",
      " $ started_at                                      : POSIXct[1:1108163], format: \"2019-04-01 00:02:22\" \"2019-04-01 00:03:02\" ...\n",
      " $ ended_at                                        : POSIXct[1:1108163], format: \"2019-04-01 00:09:48\" \"2019-04-01 00:20:30\" ...\n",
      " $ rideable_type                                   : num [1:1108163] 6251 6226 5649 4151 3270 ...\n",
      " $ 01 - Rental Details Duration In Seconds Uncapped: num [1:1108163] 446 1048 252 357 1007 ...\n",
      " $ start_station_id                                : num [1:1108163] 81 317 283 26 202 420 503 260 211 211 ...\n",
      " $ start_station_name                              : chr [1:1108163] \"Daley Center Plaza\" \"Wood St & Taylor St\" \"LaSalle St & Jackson Blvd\" \"McClurg Ct & Illinois St\" ...\n",
      " $ end_station_id                                  : num [1:1108163] 56 59 174 133 129 426 500 499 211 211 ...\n",
      " $ end_station_name                                : chr [1:1108163] \"Desplaines St & Kinzie St\" \"Wabash Ave & Roosevelt Rd\" \"Canal St & Madison St\" \"Kingsbury St & Kinzie St\" ...\n",
      " $ member_casual                                   : chr [1:1108163] \"Subscriber\" \"Subscriber\" \"Subscriber\" \"Subscriber\" ...\n",
      " $ Member Gender                                   : chr [1:1108163] \"Male\" \"Female\" \"Male\" \"Male\" ...\n",
      " $ 05 - Member Details Member Birthday Year        : num [1:1108163] 1975 1984 1990 1993 1992 ...\n",
      " - attr(*, \"spec\")=\n",
      "  .. cols(\n",
      "  ..   `01 - Rental Details Rental ID` = \u001b[32mcol_double()\u001b[39m,\n",
      "  ..   `01 - Rental Details Local Start Time` = \u001b[34mcol_datetime(format = \"\")\u001b[39m,\n",
      "  ..   `01 - Rental Details Local End Time` = \u001b[34mcol_datetime(format = \"\")\u001b[39m,\n",
      "  ..   `01 - Rental Details Bike ID` = \u001b[32mcol_double()\u001b[39m,\n",
      "  ..   `01 - Rental Details Duration In Seconds Uncapped` = \u001b[32mcol_number()\u001b[39m,\n",
      "  ..   `03 - Rental Start Station ID` = \u001b[32mcol_double()\u001b[39m,\n",
      "  ..   `03 - Rental Start Station Name` = \u001b[31mcol_character()\u001b[39m,\n",
      "  ..   `02 - Rental End Station ID` = \u001b[32mcol_double()\u001b[39m,\n",
      "  ..   `02 - Rental End Station Name` = \u001b[31mcol_character()\u001b[39m,\n",
      "  ..   `User Type` = \u001b[31mcol_character()\u001b[39m,\n",
      "  ..   `Member Gender` = \u001b[31mcol_character()\u001b[39m,\n",
      "  ..   `05 - Member Details Member Birthday Year` = \u001b[32mcol_double()\u001b[39m\n",
      "  .. )\n",
      " - attr(*, \"problems\")=<externalptr> \n",
      "spc_tbl_ [1,640,718 × 12] (S3: spec_tbl_df/tbl_df/tbl/data.frame)\n",
      " $ ride_id           : num [1:1640718] 23479388 23479389 23479390 23479391 23479392 ...\n",
      " $ started_at        : POSIXct[1:1640718], format: \"2019-07-01 00:00:27\" \"2019-07-01 00:01:16\" ...\n",
      " $ ended_at          : POSIXct[1:1640718], format: \"2019-07-01 00:20:41\" \"2019-07-01 00:18:44\" ...\n",
      " $ rideable_type     : num [1:1640718] 3591 5353 6180 5540 6014 ...\n",
      " $ tripduration      : num [1:1640718] 1214 1048 1554 1503 1213 ...\n",
      " $ start_station_id  : num [1:1640718] 117 381 313 313 168 300 168 313 43 43 ...\n",
      " $ start_station_name: chr [1:1640718] \"Wilton Ave & Belmont Ave\" \"Western Ave & Monroe St\" \"Lakeview Ave & Fullerton Pkwy\" \"Lakeview Ave & Fullerton Pkwy\" ...\n",
      " $ end_station_id    : num [1:1640718] 497 203 144 144 62 232 62 144 195 195 ...\n",
      " $ end_station_name  : chr [1:1640718] \"Kimball Ave & Belmont Ave\" \"Western Ave & 21st St\" \"Larrabee St & Webster Ave\" \"Larrabee St & Webster Ave\" ...\n",
      " $ member_casual     : chr [1:1640718] \"Subscriber\" \"Customer\" \"Customer\" \"Customer\" ...\n",
      " $ gender            : chr [1:1640718] \"Male\" NA NA NA ...\n",
      " $ birthyear         : num [1:1640718] 1992 NA NA NA NA ...\n",
      " - attr(*, \"spec\")=\n",
      "  .. cols(\n",
      "  ..   trip_id = \u001b[32mcol_double()\u001b[39m,\n",
      "  ..   start_time = \u001b[34mcol_datetime(format = \"\")\u001b[39m,\n",
      "  ..   end_time = \u001b[34mcol_datetime(format = \"\")\u001b[39m,\n",
      "  ..   bikeid = \u001b[32mcol_double()\u001b[39m,\n",
      "  ..   tripduration = \u001b[32mcol_number()\u001b[39m,\n",
      "  ..   from_station_id = \u001b[32mcol_double()\u001b[39m,\n",
      "  ..   from_station_name = \u001b[31mcol_character()\u001b[39m,\n",
      "  ..   to_station_id = \u001b[32mcol_double()\u001b[39m,\n",
      "  ..   to_station_name = \u001b[31mcol_character()\u001b[39m,\n",
      "  ..   usertype = \u001b[31mcol_character()\u001b[39m,\n",
      "  ..   gender = \u001b[31mcol_character()\u001b[39m,\n",
      "  ..   birthyear = \u001b[32mcol_double()\u001b[39m\n",
      "  .. )\n",
      " - attr(*, \"problems\")=<externalptr> \n",
      "spc_tbl_ [704,054 × 12] (S3: spec_tbl_df/tbl_df/tbl/data.frame)\n",
      " $ ride_id           : num [1:704054] 25223640 25223641 25223642 25223643 25223644 ...\n",
      " $ started_at        : POSIXct[1:704054], format: \"2019-10-01 00:01:39\" \"2019-10-01 00:02:16\" ...\n",
      " $ ended_at          : POSIXct[1:704054], format: \"2019-10-01 00:17:20\" \"2019-10-01 00:06:34\" ...\n",
      " $ rideable_type     : num [1:704054] 2215 6328 3003 3275 5294 ...\n",
      " $ tripduration      : num [1:704054] 940 258 850 2350 1867 ...\n",
      " $ start_station_id  : num [1:704054] 20 19 84 313 210 156 84 156 156 336 ...\n",
      " $ start_station_name: chr [1:704054] \"Sheffield Ave & Kingsbury St\" \"Throop (Loomis) St & Taylor St\" \"Milwaukee Ave & Grand Ave\" \"Lakeview Ave & Fullerton Pkwy\" ...\n",
      " $ end_station_id    : num [1:704054] 309 241 199 290 382 226 142 463 463 336 ...\n",
      " $ end_station_name  : chr [1:704054] \"Leavitt St & Armitage Ave\" \"Morgan St & Polk St\" \"Wabash Ave & Grand Ave\" \"Kedzie Ave & Palmer Ct\" ...\n",
      " $ member_casual     : chr [1:704054] \"Subscriber\" \"Subscriber\" \"Subscriber\" \"Subscriber\" ...\n",
      " $ gender            : chr [1:704054] \"Male\" \"Male\" \"Female\" \"Male\" ...\n",
      " $ birthyear         : num [1:704054] 1987 1998 1991 1990 1987 ...\n",
      " - attr(*, \"spec\")=\n",
      "  .. cols(\n",
      "  ..   trip_id = \u001b[32mcol_double()\u001b[39m,\n",
      "  ..   start_time = \u001b[34mcol_datetime(format = \"\")\u001b[39m,\n",
      "  ..   end_time = \u001b[34mcol_datetime(format = \"\")\u001b[39m,\n",
      "  ..   bikeid = \u001b[32mcol_double()\u001b[39m,\n",
      "  ..   tripduration = \u001b[32mcol_number()\u001b[39m,\n",
      "  ..   from_station_id = \u001b[32mcol_double()\u001b[39m,\n",
      "  ..   from_station_name = \u001b[31mcol_character()\u001b[39m,\n",
      "  ..   to_station_id = \u001b[32mcol_double()\u001b[39m,\n",
      "  ..   to_station_name = \u001b[31mcol_character()\u001b[39m,\n",
      "  ..   usertype = \u001b[31mcol_character()\u001b[39m,\n",
      "  ..   gender = \u001b[31mcol_character()\u001b[39m,\n",
      "  ..   birthyear = \u001b[32mcol_double()\u001b[39m\n",
      "  .. )\n",
      " - attr(*, \"problems\")=<externalptr> \n",
      "spc_tbl_ [426,887 × 13] (S3: spec_tbl_df/tbl_df/tbl/data.frame)\n",
      " $ ride_id           : chr [1:426887] \"EACB19130B0CDA4A\" \"8FED874C809DC021\" \"789F3C21E472CA96\" \"C9A388DAC6ABF313\" ...\n",
      " $ rideable_type     : chr [1:426887] \"docked_bike\" \"docked_bike\" \"docked_bike\" \"docked_bike\" ...\n",
      " $ started_at        : POSIXct[1:426887], format: \"2020-01-21 20:06:59\" \"2020-01-30 14:22:39\" ...\n",
      " $ ended_at          : POSIXct[1:426887], format: \"2020-01-21 20:14:30\" \"2020-01-30 14:26:22\" ...\n",
      " $ start_station_name: chr [1:426887] \"Western Ave & Leland Ave\" \"Clark St & Montrose Ave\" \"Broadway & Belmont Ave\" \"Clark St & Randolph St\" ...\n",
      " $ start_station_id  : num [1:426887] 239 234 296 51 66 212 96 96 212 38 ...\n",
      " $ end_station_name  : chr [1:426887] \"Clark St & Leland Ave\" \"Southport Ave & Irving Park Rd\" \"Wilton Ave & Belmont Ave\" \"Fairbanks Ct & Grand Ave\" ...\n",
      " $ end_station_id    : num [1:426887] 326 318 117 24 212 96 212 212 96 100 ...\n",
      " $ start_lat         : num [1:426887] 42 42 41.9 41.9 41.9 ...\n",
      " $ start_lng         : num [1:426887] -87.7 -87.7 -87.6 -87.6 -87.6 ...\n",
      " $ end_lat           : num [1:426887] 42 42 41.9 41.9 41.9 ...\n",
      " $ end_lng           : num [1:426887] -87.7 -87.7 -87.7 -87.6 -87.6 ...\n",
      " $ member_casual     : chr [1:426887] \"member\" \"member\" \"member\" \"member\" ...\n",
      " - attr(*, \"spec\")=\n",
      "  .. cols(\n",
      "  ..   ride_id = \u001b[31mcol_character()\u001b[39m,\n",
      "  ..   rideable_type = \u001b[31mcol_character()\u001b[39m,\n",
      "  ..   started_at = \u001b[34mcol_datetime(format = \"\")\u001b[39m,\n",
      "  ..   ended_at = \u001b[34mcol_datetime(format = \"\")\u001b[39m,\n",
      "  ..   start_station_name = \u001b[31mcol_character()\u001b[39m,\n",
      "  ..   start_station_id = \u001b[32mcol_double()\u001b[39m,\n",
      "  ..   end_station_name = \u001b[31mcol_character()\u001b[39m,\n",
      "  ..   end_station_id = \u001b[32mcol_double()\u001b[39m,\n",
      "  ..   start_lat = \u001b[32mcol_double()\u001b[39m,\n",
      "  ..   start_lng = \u001b[32mcol_double()\u001b[39m,\n",
      "  ..   end_lat = \u001b[32mcol_double()\u001b[39m,\n",
      "  ..   end_lng = \u001b[32mcol_double()\u001b[39m,\n",
      "  ..   member_casual = \u001b[31mcol_character()\u001b[39m\n",
      "  .. )\n",
      " - attr(*, \"problems\")=<externalptr> \n"
     ]
    }
   ],
   "source": [
    "# Inspecting the dataframes and looking for incongruencies\n",
    "str(q2_2019)\n",
    "str(q3_2019)\n",
    "str(q4_2019)\n",
    "str(q1_2020)\n",
    "\n",
    "# During the inspection I have found out that that ride_id and rideable_type \n",
    "# in q2_2019, q3_2019, q4_2019 are in double format, whereas in q1_2020 they are character"
   ]
  },
  {
   "cell_type": "code",
   "execution_count": 9,
   "id": "baaa885e",
   "metadata": {
    "_cell_guid": "64375e25-2c87-4e4e-9df1-6a122411843e",
    "_uuid": "a2e2801e-3db4-4f5e-bcae-90fdd829cc38",
    "collapsed": false,
    "execution": {
     "iopub.execute_input": "2024-03-13T06:04:03.817536Z",
     "iopub.status.busy": "2024-03-13T06:04:03.815796Z",
     "iopub.status.idle": "2024-03-13T06:04:03.854454Z",
     "shell.execute_reply": "2024-03-13T06:04:03.852431Z"
    },
    "jupyter": {
     "outputs_hidden": false
    },
    "papermill": {
     "duration": 0.067452,
     "end_time": "2024-03-13T06:04:03.858001",
     "exception": false,
     "start_time": "2024-03-13T06:04:03.790549",
     "status": "completed"
    },
    "tags": []
   },
   "outputs": [],
   "source": [
    "# Converting ride_id and rideable_type in q2_2019, q3_2019, q4_2019 from double format to character so that they match with q1_2020\n",
    "\n",
    "q2_2019<-mutate(q2_2019,\n",
    "                ride_id=as.character(ride_id),\n",
    "                rideable_type=as.character(rideable_type))\n",
    "\n",
    "q3_2019<-mutate(q3_2019,\n",
    "                ride_id=as.character(ride_id),\n",
    "                rideable_type=as.character(rideable_type))\n",
    "\n",
    "q4_2019<-mutate(q4_2019,\n",
    "                ride_id=as.character(ride_id),\n",
    "                rideable_type=as.character(rideable_type))"
   ]
  },
  {
   "cell_type": "code",
   "execution_count": 10,
   "id": "28efbe64",
   "metadata": {
    "_cell_guid": "ff89aa22-f9d8-416b-9e9c-d0081c0b9e9f",
    "_uuid": "aa9cfe04-728a-4b53-b6b6-3af7b4a53f30",
    "collapsed": false,
    "execution": {
     "iopub.execute_input": "2024-03-13T06:04:03.907009Z",
     "iopub.status.busy": "2024-03-13T06:04:03.904952Z",
     "iopub.status.idle": "2024-03-13T06:04:18.975080Z",
     "shell.execute_reply": "2024-03-13T06:04:18.972630Z"
    },
    "jupyter": {
     "outputs_hidden": false
    },
    "papermill": {
     "duration": 15.097797,
     "end_time": "2024-03-13T06:04:18.978064",
     "exception": false,
     "start_time": "2024-03-13T06:04:03.880267",
     "status": "completed"
    },
    "tags": []
   },
   "outputs": [
    {
     "data": {
      "text/html": [
       "<table class=\"dataframe\">\n",
       "<caption>A tibble: 6 × 19</caption>\n",
       "<thead>\n",
       "\t<tr><th scope=col>ride_id</th><th scope=col>started_at</th><th scope=col>ended_at</th><th scope=col>rideable_type</th><th scope=col>01 - Rental Details Duration In Seconds Uncapped</th><th scope=col>start_station_id</th><th scope=col>start_station_name</th><th scope=col>end_station_id</th><th scope=col>end_station_name</th><th scope=col>member_casual</th><th scope=col>Member Gender</th><th scope=col>05 - Member Details Member Birthday Year</th><th scope=col>tripduration</th><th scope=col>gender</th><th scope=col>birthyear</th><th scope=col>start_lat</th><th scope=col>start_lng</th><th scope=col>end_lat</th><th scope=col>end_lng</th></tr>\n",
       "\t<tr><th scope=col>&lt;chr&gt;</th><th scope=col>&lt;dttm&gt;</th><th scope=col>&lt;dttm&gt;</th><th scope=col>&lt;chr&gt;</th><th scope=col>&lt;dbl&gt;</th><th scope=col>&lt;dbl&gt;</th><th scope=col>&lt;chr&gt;</th><th scope=col>&lt;dbl&gt;</th><th scope=col>&lt;chr&gt;</th><th scope=col>&lt;chr&gt;</th><th scope=col>&lt;chr&gt;</th><th scope=col>&lt;dbl&gt;</th><th scope=col>&lt;dbl&gt;</th><th scope=col>&lt;chr&gt;</th><th scope=col>&lt;dbl&gt;</th><th scope=col>&lt;dbl&gt;</th><th scope=col>&lt;dbl&gt;</th><th scope=col>&lt;dbl&gt;</th><th scope=col>&lt;dbl&gt;</th></tr>\n",
       "</thead>\n",
       "<tbody>\n",
       "\t<tr><td>22178529</td><td>2019-04-01 00:02:22</td><td>2019-04-01 00:09:48</td><td>6251</td><td> 446</td><td> 81</td><td><span style=white-space:pre-wrap>Daley Center Plaza       </span></td><td> 56</td><td>Desplaines St &amp; Kinzie St</td><td>Subscriber</td><td><span style=white-space:pre-wrap>Male  </span></td><td>1975</td><td>NA</td><td>NA</td><td>NA</td><td>NA</td><td>NA</td><td>NA</td><td>NA</td></tr>\n",
       "\t<tr><td>22178530</td><td>2019-04-01 00:03:02</td><td>2019-04-01 00:20:30</td><td>6226</td><td>1048</td><td>317</td><td><span style=white-space:pre-wrap>Wood St &amp; Taylor St      </span></td><td> 59</td><td>Wabash Ave &amp; Roosevelt Rd</td><td>Subscriber</td><td>Female</td><td>1984</td><td>NA</td><td>NA</td><td>NA</td><td>NA</td><td>NA</td><td>NA</td><td>NA</td></tr>\n",
       "\t<tr><td>22178531</td><td>2019-04-01 00:11:07</td><td>2019-04-01 00:15:19</td><td>5649</td><td> 252</td><td>283</td><td>LaSalle St &amp; Jackson Blvd</td><td>174</td><td><span style=white-space:pre-wrap>Canal St &amp; Madison St    </span></td><td>Subscriber</td><td><span style=white-space:pre-wrap>Male  </span></td><td>1990</td><td>NA</td><td>NA</td><td>NA</td><td>NA</td><td>NA</td><td>NA</td><td>NA</td></tr>\n",
       "\t<tr><td>22178532</td><td>2019-04-01 00:13:01</td><td>2019-04-01 00:18:58</td><td>4151</td><td> 357</td><td> 26</td><td>McClurg Ct &amp; Illinois St </td><td>133</td><td>Kingsbury St &amp; Kinzie St </td><td>Subscriber</td><td><span style=white-space:pre-wrap>Male  </span></td><td>1993</td><td>NA</td><td>NA</td><td>NA</td><td>NA</td><td>NA</td><td>NA</td><td>NA</td></tr>\n",
       "\t<tr><td>22178533</td><td>2019-04-01 00:19:26</td><td>2019-04-01 00:36:13</td><td>3270</td><td>1007</td><td>202</td><td><span style=white-space:pre-wrap>Halsted St &amp; 18th St     </span></td><td>129</td><td>Blue Island Ave &amp; 18th St</td><td>Subscriber</td><td><span style=white-space:pre-wrap>Male  </span></td><td>1992</td><td>NA</td><td>NA</td><td>NA</td><td>NA</td><td>NA</td><td>NA</td><td>NA</td></tr>\n",
       "\t<tr><td>22178534</td><td>2019-04-01 00:19:39</td><td>2019-04-01 00:23:56</td><td>3123</td><td> 257</td><td>420</td><td><span style=white-space:pre-wrap>Ellis Ave &amp; 55th St      </span></td><td>426</td><td><span style=white-space:pre-wrap>Ellis Ave &amp; 60th St      </span></td><td>Subscriber</td><td><span style=white-space:pre-wrap>Male  </span></td><td>1999</td><td>NA</td><td>NA</td><td>NA</td><td>NA</td><td>NA</td><td>NA</td><td>NA</td></tr>\n",
       "</tbody>\n",
       "</table>\n"
      ],
      "text/latex": [
       "A tibble: 6 × 19\n",
       "\\begin{tabular}{lllllllllllllllllll}\n",
       " ride\\_id & started\\_at & ended\\_at & rideable\\_type & 01 - Rental Details Duration In Seconds Uncapped & start\\_station\\_id & start\\_station\\_name & end\\_station\\_id & end\\_station\\_name & member\\_casual & Member Gender & 05 - Member Details Member Birthday Year & tripduration & gender & birthyear & start\\_lat & start\\_lng & end\\_lat & end\\_lng\\\\\n",
       " <chr> & <dttm> & <dttm> & <chr> & <dbl> & <dbl> & <chr> & <dbl> & <chr> & <chr> & <chr> & <dbl> & <dbl> & <chr> & <dbl> & <dbl> & <dbl> & <dbl> & <dbl>\\\\\n",
       "\\hline\n",
       "\t 22178529 & 2019-04-01 00:02:22 & 2019-04-01 00:09:48 & 6251 &  446 &  81 & Daley Center Plaza        &  56 & Desplaines St \\& Kinzie St & Subscriber & Male   & 1975 & NA & NA & NA & NA & NA & NA & NA\\\\\n",
       "\t 22178530 & 2019-04-01 00:03:02 & 2019-04-01 00:20:30 & 6226 & 1048 & 317 & Wood St \\& Taylor St       &  59 & Wabash Ave \\& Roosevelt Rd & Subscriber & Female & 1984 & NA & NA & NA & NA & NA & NA & NA\\\\\n",
       "\t 22178531 & 2019-04-01 00:11:07 & 2019-04-01 00:15:19 & 5649 &  252 & 283 & LaSalle St \\& Jackson Blvd & 174 & Canal St \\& Madison St     & Subscriber & Male   & 1990 & NA & NA & NA & NA & NA & NA & NA\\\\\n",
       "\t 22178532 & 2019-04-01 00:13:01 & 2019-04-01 00:18:58 & 4151 &  357 &  26 & McClurg Ct \\& Illinois St  & 133 & Kingsbury St \\& Kinzie St  & Subscriber & Male   & 1993 & NA & NA & NA & NA & NA & NA & NA\\\\\n",
       "\t 22178533 & 2019-04-01 00:19:26 & 2019-04-01 00:36:13 & 3270 & 1007 & 202 & Halsted St \\& 18th St      & 129 & Blue Island Ave \\& 18th St & Subscriber & Male   & 1992 & NA & NA & NA & NA & NA & NA & NA\\\\\n",
       "\t 22178534 & 2019-04-01 00:19:39 & 2019-04-01 00:23:56 & 3123 &  257 & 420 & Ellis Ave \\& 55th St       & 426 & Ellis Ave \\& 60th St       & Subscriber & Male   & 1999 & NA & NA & NA & NA & NA & NA & NA\\\\\n",
       "\\end{tabular}\n"
      ],
      "text/markdown": [
       "\n",
       "A tibble: 6 × 19\n",
       "\n",
       "| ride_id &lt;chr&gt; | started_at &lt;dttm&gt; | ended_at &lt;dttm&gt; | rideable_type &lt;chr&gt; | 01 - Rental Details Duration In Seconds Uncapped &lt;dbl&gt; | start_station_id &lt;dbl&gt; | start_station_name &lt;chr&gt; | end_station_id &lt;dbl&gt; | end_station_name &lt;chr&gt; | member_casual &lt;chr&gt; | Member Gender &lt;chr&gt; | 05 - Member Details Member Birthday Year &lt;dbl&gt; | tripduration &lt;dbl&gt; | gender &lt;chr&gt; | birthyear &lt;dbl&gt; | start_lat &lt;dbl&gt; | start_lng &lt;dbl&gt; | end_lat &lt;dbl&gt; | end_lng &lt;dbl&gt; |\n",
       "|---|---|---|---|---|---|---|---|---|---|---|---|---|---|---|---|---|---|---|\n",
       "| 22178529 | 2019-04-01 00:02:22 | 2019-04-01 00:09:48 | 6251 |  446 |  81 | Daley Center Plaza        |  56 | Desplaines St &amp; Kinzie St | Subscriber | Male   | 1975 | NA | NA | NA | NA | NA | NA | NA |\n",
       "| 22178530 | 2019-04-01 00:03:02 | 2019-04-01 00:20:30 | 6226 | 1048 | 317 | Wood St &amp; Taylor St       |  59 | Wabash Ave &amp; Roosevelt Rd | Subscriber | Female | 1984 | NA | NA | NA | NA | NA | NA | NA |\n",
       "| 22178531 | 2019-04-01 00:11:07 | 2019-04-01 00:15:19 | 5649 |  252 | 283 | LaSalle St &amp; Jackson Blvd | 174 | Canal St &amp; Madison St     | Subscriber | Male   | 1990 | NA | NA | NA | NA | NA | NA | NA |\n",
       "| 22178532 | 2019-04-01 00:13:01 | 2019-04-01 00:18:58 | 4151 |  357 |  26 | McClurg Ct &amp; Illinois St  | 133 | Kingsbury St &amp; Kinzie St  | Subscriber | Male   | 1993 | NA | NA | NA | NA | NA | NA | NA |\n",
       "| 22178533 | 2019-04-01 00:19:26 | 2019-04-01 00:36:13 | 3270 | 1007 | 202 | Halsted St &amp; 18th St      | 129 | Blue Island Ave &amp; 18th St | Subscriber | Male   | 1992 | NA | NA | NA | NA | NA | NA | NA |\n",
       "| 22178534 | 2019-04-01 00:19:39 | 2019-04-01 00:23:56 | 3123 |  257 | 420 | Ellis Ave &amp; 55th St       | 426 | Ellis Ave &amp; 60th St       | Subscriber | Male   | 1999 | NA | NA | NA | NA | NA | NA | NA |\n",
       "\n"
      ],
      "text/plain": [
       "  ride_id  started_at          ended_at            rideable_type\n",
       "1 22178529 2019-04-01 00:02:22 2019-04-01 00:09:48 6251         \n",
       "2 22178530 2019-04-01 00:03:02 2019-04-01 00:20:30 6226         \n",
       "3 22178531 2019-04-01 00:11:07 2019-04-01 00:15:19 5649         \n",
       "4 22178532 2019-04-01 00:13:01 2019-04-01 00:18:58 4151         \n",
       "5 22178533 2019-04-01 00:19:26 2019-04-01 00:36:13 3270         \n",
       "6 22178534 2019-04-01 00:19:39 2019-04-01 00:23:56 3123         \n",
       "  01 - Rental Details Duration In Seconds Uncapped start_station_id\n",
       "1  446                                              81             \n",
       "2 1048                                             317             \n",
       "3  252                                             283             \n",
       "4  357                                              26             \n",
       "5 1007                                             202             \n",
       "6  257                                             420             \n",
       "  start_station_name        end_station_id end_station_name         \n",
       "1 Daley Center Plaza         56            Desplaines St & Kinzie St\n",
       "2 Wood St & Taylor St        59            Wabash Ave & Roosevelt Rd\n",
       "3 LaSalle St & Jackson Blvd 174            Canal St & Madison St    \n",
       "4 McClurg Ct & Illinois St  133            Kingsbury St & Kinzie St \n",
       "5 Halsted St & 18th St      129            Blue Island Ave & 18th St\n",
       "6 Ellis Ave & 55th St       426            Ellis Ave & 60th St      \n",
       "  member_casual Member Gender 05 - Member Details Member Birthday Year\n",
       "1 Subscriber    Male          1975                                    \n",
       "2 Subscriber    Female        1984                                    \n",
       "3 Subscriber    Male          1990                                    \n",
       "4 Subscriber    Male          1993                                    \n",
       "5 Subscriber    Male          1992                                    \n",
       "6 Subscriber    Male          1999                                    \n",
       "  tripduration gender birthyear start_lat start_lng end_lat end_lng\n",
       "1 NA           NA     NA        NA        NA        NA      NA     \n",
       "2 NA           NA     NA        NA        NA        NA      NA     \n",
       "3 NA           NA     NA        NA        NA        NA      NA     \n",
       "4 NA           NA     NA        NA        NA        NA      NA     \n",
       "5 NA           NA     NA        NA        NA        NA      NA     \n",
       "6 NA           NA     NA        NA        NA        NA      NA     "
      ]
     },
     "metadata": {},
     "output_type": "display_data"
    },
    {
     "data": {
      "text/html": [
       "<style>\n",
       ".list-inline {list-style: none; margin:0; padding: 0}\n",
       ".list-inline>li {display: inline-block}\n",
       ".list-inline>li:not(:last-child)::after {content: \"\\00b7\"; padding: 0 .5ex}\n",
       "</style>\n",
       "<ol class=list-inline><li>'ride_id'</li><li>'started_at'</li><li>'ended_at'</li><li>'rideable_type'</li><li>'01 - Rental Details Duration In Seconds Uncapped'</li><li>'start_station_id'</li><li>'start_station_name'</li><li>'end_station_id'</li><li>'end_station_name'</li><li>'member_casual'</li><li>'Member Gender'</li><li>'05 - Member Details Member Birthday Year'</li><li>'tripduration'</li><li>'gender'</li><li>'birthyear'</li><li>'start_lat'</li><li>'start_lng'</li><li>'end_lat'</li><li>'end_lng'</li></ol>\n"
      ],
      "text/latex": [
       "\\begin{enumerate*}\n",
       "\\item 'ride\\_id'\n",
       "\\item 'started\\_at'\n",
       "\\item 'ended\\_at'\n",
       "\\item 'rideable\\_type'\n",
       "\\item '01 - Rental Details Duration In Seconds Uncapped'\n",
       "\\item 'start\\_station\\_id'\n",
       "\\item 'start\\_station\\_name'\n",
       "\\item 'end\\_station\\_id'\n",
       "\\item 'end\\_station\\_name'\n",
       "\\item 'member\\_casual'\n",
       "\\item 'Member Gender'\n",
       "\\item '05 - Member Details Member Birthday Year'\n",
       "\\item 'tripduration'\n",
       "\\item 'gender'\n",
       "\\item 'birthyear'\n",
       "\\item 'start\\_lat'\n",
       "\\item 'start\\_lng'\n",
       "\\item 'end\\_lat'\n",
       "\\item 'end\\_lng'\n",
       "\\end{enumerate*}\n"
      ],
      "text/markdown": [
       "1. 'ride_id'\n",
       "2. 'started_at'\n",
       "3. 'ended_at'\n",
       "4. 'rideable_type'\n",
       "5. '01 - Rental Details Duration In Seconds Uncapped'\n",
       "6. 'start_station_id'\n",
       "7. 'start_station_name'\n",
       "8. 'end_station_id'\n",
       "9. 'end_station_name'\n",
       "10. 'member_casual'\n",
       "11. 'Member Gender'\n",
       "12. '05 - Member Details Member Birthday Year'\n",
       "13. 'tripduration'\n",
       "14. 'gender'\n",
       "15. 'birthyear'\n",
       "16. 'start_lat'\n",
       "17. 'start_lng'\n",
       "18. 'end_lat'\n",
       "19. 'end_lng'\n",
       "\n",
       "\n"
      ],
      "text/plain": [
       " [1] \"ride_id\"                                         \n",
       " [2] \"started_at\"                                      \n",
       " [3] \"ended_at\"                                        \n",
       " [4] \"rideable_type\"                                   \n",
       " [5] \"01 - Rental Details Duration In Seconds Uncapped\"\n",
       " [6] \"start_station_id\"                                \n",
       " [7] \"start_station_name\"                              \n",
       " [8] \"end_station_id\"                                  \n",
       " [9] \"end_station_name\"                                \n",
       "[10] \"member_casual\"                                   \n",
       "[11] \"Member Gender\"                                   \n",
       "[12] \"05 - Member Details Member Birthday Year\"        \n",
       "[13] \"tripduration\"                                    \n",
       "[14] \"gender\"                                          \n",
       "[15] \"birthyear\"                                       \n",
       "[16] \"start_lat\"                                       \n",
       "[17] \"start_lng\"                                       \n",
       "[18] \"end_lat\"                                         \n",
       "[19] \"end_lng\"                                         "
      ]
     },
     "metadata": {},
     "output_type": "display_data"
    }
   ],
   "source": [
    "# Now that our data's column names are matching and in the same format, we should stack individual quarter's data frames into one big data frame\n",
    "\n",
    "all_trips <- bind_rows(q2_2019, q3_2019, q4_2019, q1_2020)\n",
    "head(all_trips)\n",
    "colnames(all_trips)"
   ]
  },
  {
   "cell_type": "code",
   "execution_count": 11,
   "id": "a6d6ffe2",
   "metadata": {
    "_cell_guid": "4361c7ef-cc4f-4808-8af8-1f02bc2e34bc",
    "_uuid": "98ef185b-50f6-443b-9415-c6c128adc96b",
    "collapsed": false,
    "execution": {
     "iopub.execute_input": "2024-03-13T06:04:19.028312Z",
     "iopub.status.busy": "2024-03-13T06:04:19.026416Z",
     "iopub.status.idle": "2024-03-13T06:04:19.053112Z",
     "shell.execute_reply": "2024-03-13T06:04:19.051194Z"
    },
    "jupyter": {
     "outputs_hidden": false
    },
    "papermill": {
     "duration": 0.054605,
     "end_time": "2024-03-13T06:04:19.055712",
     "exception": false,
     "start_time": "2024-03-13T06:04:19.001107",
     "status": "completed"
    },
    "tags": []
   },
   "outputs": [],
   "source": [
    "# Removing redundant and repetitive fields - lat, long, birthyear, gender fields, as this data was dropped beginning in 2020\n",
    "# Also removing tripduration field, since not all entries contained this information. \n",
    "# Tripduration(ride_length) field will be generated by calculating the difference between end time and start time\n",
    "\n",
    "all_trips <- all_trips %>%  \n",
    "  select(-c(start_lat, start_lng, end_lat, end_lng, birthyear, \n",
    "            gender, tripduration, `Member Gender`, `05 - Member Details Member Birthday Year`, \n",
    "            `01 - Rental Details Duration In Seconds Uncapped`\n",
    "           ))"
   ]
  },
  {
   "cell_type": "markdown",
   "id": "6e986de9",
   "metadata": {
    "_cell_guid": "49b60ce9-a076-4b94-9d90-d901dad74a03",
    "_uuid": "5e6a2a69-33bb-44c9-82b9-84674607765a",
    "papermill": {
     "duration": 0.023119,
     "end_time": "2024-03-13T06:04:19.101687",
     "exception": false,
     "start_time": "2024-03-13T06:04:19.078568",
     "status": "completed"
    },
    "tags": []
   },
   "source": [
    "# Step 3: Process\n",
    "\n",
    "Key stages:\n",
    "\n",
    "**1. Checking the data for errors**"
   ]
  },
  {
   "cell_type": "code",
   "execution_count": 12,
   "id": "fe1ec3ed",
   "metadata": {
    "_cell_guid": "54d3032a-a50b-488e-b8e5-35d5885201e5",
    "_uuid": "21be1dcf-ebe9-4504-a2da-8241a182447b",
    "collapsed": false,
    "execution": {
     "iopub.execute_input": "2024-03-13T06:04:19.152384Z",
     "iopub.status.busy": "2024-03-13T06:04:19.150810Z",
     "iopub.status.idle": "2024-03-13T06:04:19.169295Z",
     "shell.execute_reply": "2024-03-13T06:04:19.167541Z"
    },
    "jupyter": {
     "outputs_hidden": false
    },
    "papermill": {
     "duration": 0.047297,
     "end_time": "2024-03-13T06:04:19.171827",
     "exception": false,
     "start_time": "2024-03-13T06:04:19.124530",
     "status": "completed"
    },
    "tags": []
   },
   "outputs": [
    {
     "data": {
      "text/html": [
       "<style>\n",
       ".list-inline {list-style: none; margin:0; padding: 0}\n",
       ".list-inline>li {display: inline-block}\n",
       ".list-inline>li:not(:last-child)::after {content: \"\\00b7\"; padding: 0 .5ex}\n",
       "</style>\n",
       "<ol class=list-inline><li>'ride_id'</li><li>'started_at'</li><li>'ended_at'</li><li>'rideable_type'</li><li>'start_station_id'</li><li>'start_station_name'</li><li>'end_station_id'</li><li>'end_station_name'</li><li>'member_casual'</li></ol>\n"
      ],
      "text/latex": [
       "\\begin{enumerate*}\n",
       "\\item 'ride\\_id'\n",
       "\\item 'started\\_at'\n",
       "\\item 'ended\\_at'\n",
       "\\item 'rideable\\_type'\n",
       "\\item 'start\\_station\\_id'\n",
       "\\item 'start\\_station\\_name'\n",
       "\\item 'end\\_station\\_id'\n",
       "\\item 'end\\_station\\_name'\n",
       "\\item 'member\\_casual'\n",
       "\\end{enumerate*}\n"
      ],
      "text/markdown": [
       "1. 'ride_id'\n",
       "2. 'started_at'\n",
       "3. 'ended_at'\n",
       "4. 'rideable_type'\n",
       "5. 'start_station_id'\n",
       "6. 'start_station_name'\n",
       "7. 'end_station_id'\n",
       "8. 'end_station_name'\n",
       "9. 'member_casual'\n",
       "\n",
       "\n"
      ],
      "text/plain": [
       "[1] \"ride_id\"            \"started_at\"         \"ended_at\"          \n",
       "[4] \"rideable_type\"      \"start_station_id\"   \"start_station_name\"\n",
       "[7] \"end_station_id\"     \"end_station_name\"   \"member_casual\"     "
      ]
     },
     "metadata": {},
     "output_type": "display_data"
    }
   ],
   "source": [
    "# Inspecting the new table that has been created:\n",
    "\n",
    "colnames(all_trips)  # List of column names"
   ]
  },
  {
   "cell_type": "code",
   "execution_count": 13,
   "id": "9dc785ee",
   "metadata": {
    "_cell_guid": "41818358-726a-47f3-9572-944ca1f210e4",
    "_uuid": "40e162f4-290b-4eb8-a36b-ba1c06d7edac",
    "collapsed": false,
    "execution": {
     "iopub.execute_input": "2024-03-13T06:04:19.221721Z",
     "iopub.status.busy": "2024-03-13T06:04:19.220105Z",
     "iopub.status.idle": "2024-03-13T06:04:19.240338Z",
     "shell.execute_reply": "2024-03-13T06:04:19.238442Z"
    },
    "jupyter": {
     "outputs_hidden": false
    },
    "papermill": {
     "duration": 0.047788,
     "end_time": "2024-03-13T06:04:19.242705",
     "exception": false,
     "start_time": "2024-03-13T06:04:19.194917",
     "status": "completed"
    },
    "tags": []
   },
   "outputs": [
    {
     "data": {
      "text/html": [
       "3879822"
      ],
      "text/latex": [
       "3879822"
      ],
      "text/markdown": [
       "3879822"
      ],
      "text/plain": [
       "[1] 3879822"
      ]
     },
     "metadata": {},
     "output_type": "display_data"
    }
   ],
   "source": [
    "nrow(all_trips) # number of rows in data frame"
   ]
  },
  {
   "cell_type": "code",
   "execution_count": 14,
   "id": "cc028b10",
   "metadata": {
    "_cell_guid": "d181dad7-2154-43b9-8da8-f6ca7f1c2660",
    "_uuid": "714ccb10-e1ba-408a-8cf9-345c1ed715a0",
    "collapsed": false,
    "execution": {
     "iopub.execute_input": "2024-03-13T06:04:19.293153Z",
     "iopub.status.busy": "2024-03-13T06:04:19.291412Z",
     "iopub.status.idle": "2024-03-13T06:04:19.313159Z",
     "shell.execute_reply": "2024-03-13T06:04:19.310954Z"
    },
    "jupyter": {
     "outputs_hidden": false
    },
    "papermill": {
     "duration": 0.049935,
     "end_time": "2024-03-13T06:04:19.315915",
     "exception": false,
     "start_time": "2024-03-13T06:04:19.265980",
     "status": "completed"
    },
    "tags": []
   },
   "outputs": [
    {
     "data": {
      "text/html": [
       "<style>\n",
       ".list-inline {list-style: none; margin:0; padding: 0}\n",
       ".list-inline>li {display: inline-block}\n",
       ".list-inline>li:not(:last-child)::after {content: \"\\00b7\"; padding: 0 .5ex}\n",
       "</style>\n",
       "<ol class=list-inline><li>3879822</li><li>9</li></ol>\n"
      ],
      "text/latex": [
       "\\begin{enumerate*}\n",
       "\\item 3879822\n",
       "\\item 9\n",
       "\\end{enumerate*}\n"
      ],
      "text/markdown": [
       "1. 3879822\n",
       "2. 9\n",
       "\n",
       "\n"
      ],
      "text/plain": [
       "[1] 3879822       9"
      ]
     },
     "metadata": {},
     "output_type": "display_data"
    }
   ],
   "source": [
    "dim(all_trips) # dimensions of data frame"
   ]
  },
  {
   "cell_type": "code",
   "execution_count": 15,
   "id": "c35b02e7",
   "metadata": {
    "_cell_guid": "b36c1290-db6c-4f3d-a09c-f453427334ee",
    "_uuid": "c4ce6a5f-53eb-4d8d-b694-9acb4f229242",
    "collapsed": false,
    "execution": {
     "iopub.execute_input": "2024-03-13T06:04:19.370089Z",
     "iopub.status.busy": "2024-03-13T06:04:19.367464Z",
     "iopub.status.idle": "2024-03-13T06:04:19.420978Z",
     "shell.execute_reply": "2024-03-13T06:04:19.418602Z"
    },
    "jupyter": {
     "outputs_hidden": false
    },
    "papermill": {
     "duration": 0.082926,
     "end_time": "2024-03-13T06:04:19.424502",
     "exception": false,
     "start_time": "2024-03-13T06:04:19.341576",
     "status": "completed"
    },
    "tags": []
   },
   "outputs": [
    {
     "data": {
      "text/html": [
       "<table class=\"dataframe\">\n",
       "<caption>A tibble: 6 × 9</caption>\n",
       "<thead>\n",
       "\t<tr><th scope=col>ride_id</th><th scope=col>started_at</th><th scope=col>ended_at</th><th scope=col>rideable_type</th><th scope=col>start_station_id</th><th scope=col>start_station_name</th><th scope=col>end_station_id</th><th scope=col>end_station_name</th><th scope=col>member_casual</th></tr>\n",
       "\t<tr><th scope=col>&lt;chr&gt;</th><th scope=col>&lt;dttm&gt;</th><th scope=col>&lt;dttm&gt;</th><th scope=col>&lt;chr&gt;</th><th scope=col>&lt;dbl&gt;</th><th scope=col>&lt;chr&gt;</th><th scope=col>&lt;dbl&gt;</th><th scope=col>&lt;chr&gt;</th><th scope=col>&lt;chr&gt;</th></tr>\n",
       "</thead>\n",
       "<tbody>\n",
       "\t<tr><td>22178529</td><td>2019-04-01 00:02:22</td><td>2019-04-01 00:09:48</td><td>6251</td><td> 81</td><td><span style=white-space:pre-wrap>Daley Center Plaza       </span></td><td> 56</td><td>Desplaines St &amp; Kinzie St</td><td>Subscriber</td></tr>\n",
       "\t<tr><td>22178530</td><td>2019-04-01 00:03:02</td><td>2019-04-01 00:20:30</td><td>6226</td><td>317</td><td><span style=white-space:pre-wrap>Wood St &amp; Taylor St      </span></td><td> 59</td><td>Wabash Ave &amp; Roosevelt Rd</td><td>Subscriber</td></tr>\n",
       "\t<tr><td>22178531</td><td>2019-04-01 00:11:07</td><td>2019-04-01 00:15:19</td><td>5649</td><td>283</td><td>LaSalle St &amp; Jackson Blvd</td><td>174</td><td><span style=white-space:pre-wrap>Canal St &amp; Madison St    </span></td><td>Subscriber</td></tr>\n",
       "\t<tr><td>22178532</td><td>2019-04-01 00:13:01</td><td>2019-04-01 00:18:58</td><td>4151</td><td> 26</td><td>McClurg Ct &amp; Illinois St </td><td>133</td><td>Kingsbury St &amp; Kinzie St </td><td>Subscriber</td></tr>\n",
       "\t<tr><td>22178533</td><td>2019-04-01 00:19:26</td><td>2019-04-01 00:36:13</td><td>3270</td><td>202</td><td><span style=white-space:pre-wrap>Halsted St &amp; 18th St     </span></td><td>129</td><td>Blue Island Ave &amp; 18th St</td><td>Subscriber</td></tr>\n",
       "\t<tr><td>22178534</td><td>2019-04-01 00:19:39</td><td>2019-04-01 00:23:56</td><td>3123</td><td>420</td><td><span style=white-space:pre-wrap>Ellis Ave &amp; 55th St      </span></td><td>426</td><td><span style=white-space:pre-wrap>Ellis Ave &amp; 60th St      </span></td><td>Subscriber</td></tr>\n",
       "</tbody>\n",
       "</table>\n"
      ],
      "text/latex": [
       "A tibble: 6 × 9\n",
       "\\begin{tabular}{lllllllll}\n",
       " ride\\_id & started\\_at & ended\\_at & rideable\\_type & start\\_station\\_id & start\\_station\\_name & end\\_station\\_id & end\\_station\\_name & member\\_casual\\\\\n",
       " <chr> & <dttm> & <dttm> & <chr> & <dbl> & <chr> & <dbl> & <chr> & <chr>\\\\\n",
       "\\hline\n",
       "\t 22178529 & 2019-04-01 00:02:22 & 2019-04-01 00:09:48 & 6251 &  81 & Daley Center Plaza        &  56 & Desplaines St \\& Kinzie St & Subscriber\\\\\n",
       "\t 22178530 & 2019-04-01 00:03:02 & 2019-04-01 00:20:30 & 6226 & 317 & Wood St \\& Taylor St       &  59 & Wabash Ave \\& Roosevelt Rd & Subscriber\\\\\n",
       "\t 22178531 & 2019-04-01 00:11:07 & 2019-04-01 00:15:19 & 5649 & 283 & LaSalle St \\& Jackson Blvd & 174 & Canal St \\& Madison St     & Subscriber\\\\\n",
       "\t 22178532 & 2019-04-01 00:13:01 & 2019-04-01 00:18:58 & 4151 &  26 & McClurg Ct \\& Illinois St  & 133 & Kingsbury St \\& Kinzie St  & Subscriber\\\\\n",
       "\t 22178533 & 2019-04-01 00:19:26 & 2019-04-01 00:36:13 & 3270 & 202 & Halsted St \\& 18th St      & 129 & Blue Island Ave \\& 18th St & Subscriber\\\\\n",
       "\t 22178534 & 2019-04-01 00:19:39 & 2019-04-01 00:23:56 & 3123 & 420 & Ellis Ave \\& 55th St       & 426 & Ellis Ave \\& 60th St       & Subscriber\\\\\n",
       "\\end{tabular}\n"
      ],
      "text/markdown": [
       "\n",
       "A tibble: 6 × 9\n",
       "\n",
       "| ride_id &lt;chr&gt; | started_at &lt;dttm&gt; | ended_at &lt;dttm&gt; | rideable_type &lt;chr&gt; | start_station_id &lt;dbl&gt; | start_station_name &lt;chr&gt; | end_station_id &lt;dbl&gt; | end_station_name &lt;chr&gt; | member_casual &lt;chr&gt; |\n",
       "|---|---|---|---|---|---|---|---|---|\n",
       "| 22178529 | 2019-04-01 00:02:22 | 2019-04-01 00:09:48 | 6251 |  81 | Daley Center Plaza        |  56 | Desplaines St &amp; Kinzie St | Subscriber |\n",
       "| 22178530 | 2019-04-01 00:03:02 | 2019-04-01 00:20:30 | 6226 | 317 | Wood St &amp; Taylor St       |  59 | Wabash Ave &amp; Roosevelt Rd | Subscriber |\n",
       "| 22178531 | 2019-04-01 00:11:07 | 2019-04-01 00:15:19 | 5649 | 283 | LaSalle St &amp; Jackson Blvd | 174 | Canal St &amp; Madison St     | Subscriber |\n",
       "| 22178532 | 2019-04-01 00:13:01 | 2019-04-01 00:18:58 | 4151 |  26 | McClurg Ct &amp; Illinois St  | 133 | Kingsbury St &amp; Kinzie St  | Subscriber |\n",
       "| 22178533 | 2019-04-01 00:19:26 | 2019-04-01 00:36:13 | 3270 | 202 | Halsted St &amp; 18th St      | 129 | Blue Island Ave &amp; 18th St | Subscriber |\n",
       "| 22178534 | 2019-04-01 00:19:39 | 2019-04-01 00:23:56 | 3123 | 420 | Ellis Ave &amp; 55th St       | 426 | Ellis Ave &amp; 60th St       | Subscriber |\n",
       "\n"
      ],
      "text/plain": [
       "  ride_id  started_at          ended_at            rideable_type\n",
       "1 22178529 2019-04-01 00:02:22 2019-04-01 00:09:48 6251         \n",
       "2 22178530 2019-04-01 00:03:02 2019-04-01 00:20:30 6226         \n",
       "3 22178531 2019-04-01 00:11:07 2019-04-01 00:15:19 5649         \n",
       "4 22178532 2019-04-01 00:13:01 2019-04-01 00:18:58 4151         \n",
       "5 22178533 2019-04-01 00:19:26 2019-04-01 00:36:13 3270         \n",
       "6 22178534 2019-04-01 00:19:39 2019-04-01 00:23:56 3123         \n",
       "  start_station_id start_station_name        end_station_id\n",
       "1  81              Daley Center Plaza         56           \n",
       "2 317              Wood St & Taylor St        59           \n",
       "3 283              LaSalle St & Jackson Blvd 174           \n",
       "4  26              McClurg Ct & Illinois St  133           \n",
       "5 202              Halsted St & 18th St      129           \n",
       "6 420              Ellis Ave & 55th St       426           \n",
       "  end_station_name          member_casual\n",
       "1 Desplaines St & Kinzie St Subscriber   \n",
       "2 Wabash Ave & Roosevelt Rd Subscriber   \n",
       "3 Canal St & Madison St     Subscriber   \n",
       "4 Kingsbury St & Kinzie St  Subscriber   \n",
       "5 Blue Island Ave & 18th St Subscriber   \n",
       "6 Ellis Ave & 60th St       Subscriber   "
      ]
     },
     "metadata": {},
     "output_type": "display_data"
    }
   ],
   "source": [
    "head(all_trips) # the first 6 rows of data frame"
   ]
  },
  {
   "cell_type": "code",
   "execution_count": 16,
   "id": "5c0f2647",
   "metadata": {
    "_cell_guid": "3c4dcde7-4dd5-475e-bea2-869b29b71677",
    "_uuid": "899ba3c8-c5ac-4cd0-9971-d7c89e5ff426",
    "collapsed": false,
    "execution": {
     "iopub.execute_input": "2024-03-13T06:04:19.479533Z",
     "iopub.status.busy": "2024-03-13T06:04:19.476457Z",
     "iopub.status.idle": "2024-03-13T06:04:19.523595Z",
     "shell.execute_reply": "2024-03-13T06:04:19.521160Z"
    },
    "jupyter": {
     "outputs_hidden": false
    },
    "papermill": {
     "duration": 0.077341,
     "end_time": "2024-03-13T06:04:19.526752",
     "exception": false,
     "start_time": "2024-03-13T06:04:19.449411",
     "status": "completed"
    },
    "tags": []
   },
   "outputs": [
    {
     "name": "stdout",
     "output_type": "stream",
     "text": [
      "tibble [3,879,822 × 9] (S3: tbl_df/tbl/data.frame)\n",
      " $ ride_id           : chr [1:3879822] \"22178529\" \"22178530\" \"22178531\" \"22178532\" ...\n",
      " $ started_at        : POSIXct[1:3879822], format: \"2019-04-01 00:02:22\" \"2019-04-01 00:03:02\" ...\n",
      " $ ended_at          : POSIXct[1:3879822], format: \"2019-04-01 00:09:48\" \"2019-04-01 00:20:30\" ...\n",
      " $ rideable_type     : chr [1:3879822] \"6251\" \"6226\" \"5649\" \"4151\" ...\n",
      " $ start_station_id  : num [1:3879822] 81 317 283 26 202 420 503 260 211 211 ...\n",
      " $ start_station_name: chr [1:3879822] \"Daley Center Plaza\" \"Wood St & Taylor St\" \"LaSalle St & Jackson Blvd\" \"McClurg Ct & Illinois St\" ...\n",
      " $ end_station_id    : num [1:3879822] 56 59 174 133 129 426 500 499 211 211 ...\n",
      " $ end_station_name  : chr [1:3879822] \"Desplaines St & Kinzie St\" \"Wabash Ave & Roosevelt Rd\" \"Canal St & Madison St\" \"Kingsbury St & Kinzie St\" ...\n",
      " $ member_casual     : chr [1:3879822] \"Subscriber\" \"Subscriber\" \"Subscriber\" \"Subscriber\" ...\n"
     ]
    }
   ],
   "source": [
    "str(all_trips) # to see list of columns and data types (e.g.numeric, character)"
   ]
  },
  {
   "cell_type": "code",
   "execution_count": 17,
   "id": "d50b40b8",
   "metadata": {
    "_cell_guid": "925b644b-a5ee-47e1-8c3b-4264b87e5559",
    "_uuid": "47aa45dc-c9c0-410a-99a0-8485929f1885",
    "collapsed": false,
    "execution": {
     "iopub.execute_input": "2024-03-13T06:04:19.580856Z",
     "iopub.status.busy": "2024-03-13T06:04:19.578241Z",
     "iopub.status.idle": "2024-03-13T06:04:21.620780Z",
     "shell.execute_reply": "2024-03-13T06:04:21.618779Z"
    },
    "jupyter": {
     "outputs_hidden": false
    },
    "papermill": {
     "duration": 2.072847,
     "end_time": "2024-03-13T06:04:21.623992",
     "exception": false,
     "start_time": "2024-03-13T06:04:19.551145",
     "status": "completed"
    },
    "tags": []
   },
   "outputs": [
    {
     "data": {
      "text/plain": [
       "   ride_id            started_at                     ended_at                  \n",
       " Length:3879822     Min.   :2019-04-01 00:02:22   Min.   :2019-04-01 00:09:48  \n",
       " Class :character   1st Qu.:2019-06-23 07:49:09   1st Qu.:2019-06-23 08:20:27  \n",
       " Mode  :character   Median :2019-08-14 17:43:38   Median :2019-08-14 18:02:04  \n",
       "                    Mean   :2019-08-26 00:49:59   Mean   :2019-08-26 01:14:37  \n",
       "                    3rd Qu.:2019-10-12 12:10:21   3rd Qu.:2019-10-12 12:36:16  \n",
       "                    Max.   :2020-03-31 23:51:34   Max.   :2020-05-19 20:10:34  \n",
       "                                                                               \n",
       " rideable_type      start_station_id start_station_name end_station_id \n",
       " Length:3879822     Min.   :  1.0    Length:3879822     Min.   :  1.0  \n",
       " Class :character   1st Qu.: 77.0    Class :character   1st Qu.: 77.0  \n",
       " Mode  :character   Median :174.0    Mode  :character   Median :174.0  \n",
       "                    Mean   :202.9                       Mean   :203.8  \n",
       "                    3rd Qu.:291.0                       3rd Qu.:291.0  \n",
       "                    Max.   :675.0                       Max.   :675.0  \n",
       "                                                        NA's   :1      \n",
       " end_station_name   member_casual     \n",
       " Length:3879822     Length:3879822    \n",
       " Class :character   Class :character  \n",
       " Mode  :character   Mode  :character  \n",
       "                                      \n",
       "                                      \n",
       "                                      \n",
       "                                      "
      ]
     },
     "metadata": {},
     "output_type": "display_data"
    }
   ],
   "source": [
    "summary(all_trips) # to see statistical summary of data frame"
   ]
  },
  {
   "cell_type": "markdown",
   "id": "8d8daeae",
   "metadata": {
    "_cell_guid": "9742f447-3c5d-43e9-b6a3-63d5b82e30f5",
    "_uuid": "f050df6d-50ff-4118-b033-00c1eda81eca",
    "papermill": {
     "duration": 0.024371,
     "end_time": "2024-03-13T06:04:21.672773",
     "exception": false,
     "start_time": "2024-03-13T06:04:21.648402",
     "status": "completed"
    },
    "tags": []
   },
   "source": [
    "We will need to fix several problems that this data frame has.\n",
    "\n",
    "* The *member_casual* column has 4 different names - member, casual, Customer, Subscriber. These names will need to be consolidated from four to two labels. We can check this by using *unique()* function:"
   ]
  },
  {
   "cell_type": "code",
   "execution_count": 18,
   "id": "1f47c2af",
   "metadata": {
    "_cell_guid": "4a3cf6ea-6a54-4331-be5f-bbbeeed03c22",
    "_uuid": "1e349633-9844-4a6a-81c3-356e9069f3de",
    "collapsed": false,
    "execution": {
     "iopub.execute_input": "2024-03-13T06:04:21.759202Z",
     "iopub.status.busy": "2024-03-13T06:04:21.757556Z",
     "iopub.status.idle": "2024-03-13T06:04:21.857278Z",
     "shell.execute_reply": "2024-03-13T06:04:21.854779Z"
    },
    "jupyter": {
     "outputs_hidden": false
    },
    "papermill": {
     "duration": 0.163373,
     "end_time": "2024-03-13T06:04:21.860357",
     "exception": false,
     "start_time": "2024-03-13T06:04:21.696984",
     "status": "completed"
    },
    "tags": []
   },
   "outputs": [
    {
     "data": {
      "text/html": [
       "<style>\n",
       ".list-inline {list-style: none; margin:0; padding: 0}\n",
       ".list-inline>li {display: inline-block}\n",
       ".list-inline>li:not(:last-child)::after {content: \"\\00b7\"; padding: 0 .5ex}\n",
       "</style>\n",
       "<ol class=list-inline><li>'Subscriber'</li><li>'Customer'</li><li>'member'</li><li>'casual'</li></ol>\n"
      ],
      "text/latex": [
       "\\begin{enumerate*}\n",
       "\\item 'Subscriber'\n",
       "\\item 'Customer'\n",
       "\\item 'member'\n",
       "\\item 'casual'\n",
       "\\end{enumerate*}\n"
      ],
      "text/markdown": [
       "1. 'Subscriber'\n",
       "2. 'Customer'\n",
       "3. 'member'\n",
       "4. 'casual'\n",
       "\n",
       "\n"
      ],
      "text/plain": [
       "[1] \"Subscriber\" \"Customer\"   \"member\"     \"casual\"    "
      ]
     },
     "metadata": {},
     "output_type": "display_data"
    }
   ],
   "source": [
    "unique(all_trips$member_casual)"
   ]
  },
  {
   "cell_type": "markdown",
   "id": "de6cf51b",
   "metadata": {
    "_cell_guid": "5de2aed1-b091-4a0b-8afa-47af45170799",
    "_uuid": "6481b2b1-a961-4ad9-b11c-b4700a1bc1e8",
    "papermill": {
     "duration": 0.024301,
     "end_time": "2024-03-13T06:04:21.908964",
     "exception": false,
     "start_time": "2024-03-13T06:04:21.884663",
     "status": "completed"
    },
    "tags": []
   },
   "source": [
    "* In its current condition our data can only be aggregated at the ride-level (by *ride_id*), and that is  too granular. In order to have additional opportunities to aggregate the data, we will add new columns -- such as day, month, year, taken from the datetime columns. We will also add weekdays.\n",
    "* In order to maintain consistency, we will need to add a calculated field for *ride_length* for all entries, since the 2020Q1 data did not have the *tripduration* column. \n",
    "* There are some entries where length of ride is negative. Also, there are several hundred rides where Divvy took bikes out of circulation for Quality Control reasons. We will need to delete these rides."
   ]
  },
  {
   "cell_type": "markdown",
   "id": "f00d8f58",
   "metadata": {
    "_cell_guid": "a8219ba6-4bc4-45f3-961b-f6b60a1463f5",
    "_uuid": "31b69cf3-a773-42fe-bb23-5dcabb2346f2",
    "papermill": {
     "duration": 0.024392,
     "end_time": "2024-03-13T06:04:21.957987",
     "exception": false,
     "start_time": "2024-03-13T06:04:21.933595",
     "status": "completed"
    },
    "tags": []
   },
   "source": [
    "**2. Choosing tools for analysis**\n",
    "\n",
    "In conducting data clean up and preparation for further analysis I will be using R."
   ]
  },
  {
   "cell_type": "markdown",
   "id": "c584601d",
   "metadata": {
    "_cell_guid": "f2210326-86cc-4904-922e-f224817a2fba",
    "_uuid": "0a095947-0ab0-4c66-aad9-58b4a0ff42df",
    "papermill": {
     "duration": 0.024281,
     "end_time": "2024-03-13T06:04:22.006583",
     "exception": false,
     "start_time": "2024-03-13T06:04:21.982302",
     "status": "completed"
    },
    "tags": []
   },
   "source": [
    "**3. Transforming the data to work effectively with it**"
   ]
  },
  {
   "cell_type": "code",
   "execution_count": 19,
   "id": "98c9b6bb",
   "metadata": {
    "_cell_guid": "825f08bf-c1c0-45bc-adc5-0c2383e80a28",
    "_uuid": "1ee9669b-0a74-49f8-8228-34594b7b2b59",
    "collapsed": false,
    "execution": {
     "iopub.execute_input": "2024-03-13T06:04:22.059498Z",
     "iopub.status.busy": "2024-03-13T06:04:22.057795Z",
     "iopub.status.idle": "2024-03-13T06:04:23.111466Z",
     "shell.execute_reply": "2024-03-13T06:04:23.109191Z"
    },
    "jupyter": {
     "outputs_hidden": false
    },
    "papermill": {
     "duration": 1.083347,
     "end_time": "2024-03-13T06:04:23.114583",
     "exception": false,
     "start_time": "2024-03-13T06:04:22.031236",
     "status": "completed"
    },
    "tags": []
   },
   "outputs": [
    {
     "data": {
      "text/plain": [
       "\n",
       "    casual   Customer     member Subscriber \n",
       "     48480     857474     378407    2595461 "
      ]
     },
     "metadata": {},
     "output_type": "display_data"
    }
   ],
   "source": [
    "#First, checking how many observations fall under each type in member_casual column\n",
    "table(all_trips$member_casual)"
   ]
  },
  {
   "cell_type": "code",
   "execution_count": 20,
   "id": "ce288b72",
   "metadata": {
    "_cell_guid": "5b219705-2203-48a4-a155-5347093777da",
    "_uuid": "f0dd7563-be37-43fa-a018-558e83a93b3e",
    "collapsed": false,
    "execution": {
     "iopub.execute_input": "2024-03-13T06:04:23.169438Z",
     "iopub.status.busy": "2024-03-13T06:04:23.167722Z",
     "iopub.status.idle": "2024-03-13T06:04:23.972141Z",
     "shell.execute_reply": "2024-03-13T06:04:23.969819Z"
    },
    "jupyter": {
     "outputs_hidden": false
    },
    "papermill": {
     "duration": 0.83512,
     "end_time": "2024-03-13T06:04:23.975371",
     "exception": false,
     "start_time": "2024-03-13T06:04:23.140251",
     "status": "completed"
    },
    "tags": []
   },
   "outputs": [
    {
     "data": {
      "text/plain": [
       "\n",
       " casual  member \n",
       " 905954 2973868 "
      ]
     },
     "metadata": {},
     "output_type": "display_data"
    }
   ],
   "source": [
    "# Then, modyfing member_casual column --replacing \"Subscriber\" with \"member\",and \"Customer\" with \"casual\"\n",
    "\n",
    "all_trips <-  all_trips %>% \n",
    "  mutate(member_casual = recode(member_casual\n",
    "                                ,\"Subscriber\" = \"member\"\n",
    "                                ,\"Customer\" = \"casual\"))\n",
    "\n",
    "# Checking to make sure the proper number of observations were reassigned\n",
    "\n",
    "table(all_trips$member_casual)"
   ]
  },
  {
   "cell_type": "markdown",
   "id": "d8ed06ef",
   "metadata": {
    "_cell_guid": "f76d1862-1a1f-4275-ac62-f6925dfe7fbe",
    "_uuid": "701f25e4-286d-45dc-ba7a-f35588665275",
    "papermill": {
     "duration": 0.025308,
     "end_time": "2024-03-13T06:04:24.025705",
     "exception": false,
     "start_time": "2024-03-13T06:04:24.000397",
     "status": "completed"
    },
    "tags": []
   },
   "source": [
    "* Adding additional columns for the date, month, day, year, and day of the week of each ride."
   ]
  },
  {
   "cell_type": "code",
   "execution_count": 21,
   "id": "6b6f7a49",
   "metadata": {
    "_cell_guid": "f78b36bd-3988-458b-99d7-2901a505fd1f",
    "_uuid": "1eac4e01-e552-4bf7-990b-a14ec5bdc5b0",
    "collapsed": false,
    "execution": {
     "iopub.execute_input": "2024-03-13T06:04:24.080284Z",
     "iopub.status.busy": "2024-03-13T06:04:24.078589Z",
     "iopub.status.idle": "2024-03-13T06:04:29.871018Z",
     "shell.execute_reply": "2024-03-13T06:04:29.869127Z"
    },
    "jupyter": {
     "outputs_hidden": false
    },
    "papermill": {
     "duration": 5.823196,
     "end_time": "2024-03-13T06:04:29.874503",
     "exception": false,
     "start_time": "2024-03-13T06:04:24.051307",
     "status": "completed"
    },
    "tags": []
   },
   "outputs": [],
   "source": [
    "all_trips$date <- as.Date(all_trips$started_at)  # The default format is yyyy-mm-dd\n",
    "all_trips$month <- format(as.Date(all_trips$date), \"%m\")\n",
    "all_trips$day <- format(as.Date(all_trips$date), \"%d\")\n",
    "all_trips$year <- format(as.Date(all_trips$date), \"%Y\")\n",
    "all_trips$day_of_week <- format(as.Date(all_trips$date), \"%A\")"
   ]
  },
  {
   "cell_type": "markdown",
   "id": "8d4e5e2e",
   "metadata": {
    "_cell_guid": "5a265b63-29f8-4d5d-81c1-d575c9427ab5",
    "_uuid": "51afe8a2-0ec1-42c2-af46-c04226c8b040",
    "papermill": {
     "duration": 0.024715,
     "end_time": "2024-03-13T06:04:29.923942",
     "exception": false,
     "start_time": "2024-03-13T06:04:29.899227",
     "status": "completed"
    },
    "tags": []
   },
   "source": [
    "* Adding a \"ride_length\" calculation to all_trips (in seconds)"
   ]
  },
  {
   "cell_type": "code",
   "execution_count": 22,
   "id": "0351ba07",
   "metadata": {
    "_cell_guid": "d0ee2000-aa87-45c5-9c64-e758593eacf2",
    "_uuid": "d737caf5-bea1-4db9-b1e0-01a73a27baf6",
    "collapsed": false,
    "execution": {
     "iopub.execute_input": "2024-03-13T06:04:29.977234Z",
     "iopub.status.busy": "2024-03-13T06:04:29.975564Z",
     "iopub.status.idle": "2024-03-13T06:04:30.021769Z",
     "shell.execute_reply": "2024-03-13T06:04:30.019850Z"
    },
    "jupyter": {
     "outputs_hidden": false
    },
    "papermill": {
     "duration": 0.076532,
     "end_time": "2024-03-13T06:04:30.025113",
     "exception": false,
     "start_time": "2024-03-13T06:04:29.948581",
     "status": "completed"
    },
    "tags": []
   },
   "outputs": [],
   "source": [
    "# ride_length column is calculated by subtracting ride started_at from ride ended_at\n",
    "\n",
    "all_trips$ride_length <- difftime(all_trips$ended_at,all_trips$started_at)"
   ]
  },
  {
   "cell_type": "code",
   "execution_count": 23,
   "id": "3dde20ba",
   "metadata": {
    "_cell_guid": "30191ab6-66a9-4122-81c9-3d078a2ea878",
    "_uuid": "b2714c9a-55ad-458e-b3bf-7e19aa91834f",
    "collapsed": false,
    "execution": {
     "iopub.execute_input": "2024-03-13T06:04:30.078864Z",
     "iopub.status.busy": "2024-03-13T06:04:30.077219Z",
     "iopub.status.idle": "2024-03-13T06:04:30.127301Z",
     "shell.execute_reply": "2024-03-13T06:04:30.125008Z"
    },
    "jupyter": {
     "outputs_hidden": false
    },
    "papermill": {
     "duration": 0.081035,
     "end_time": "2024-03-13T06:04:30.130791",
     "exception": false,
     "start_time": "2024-03-13T06:04:30.049756",
     "status": "completed"
    },
    "tags": []
   },
   "outputs": [
    {
     "name": "stdout",
     "output_type": "stream",
     "text": [
      "tibble [3,879,822 × 15] (S3: tbl_df/tbl/data.frame)\n",
      " $ ride_id           : chr [1:3879822] \"22178529\" \"22178530\" \"22178531\" \"22178532\" ...\n",
      " $ started_at        : POSIXct[1:3879822], format: \"2019-04-01 00:02:22\" \"2019-04-01 00:03:02\" ...\n",
      " $ ended_at          : POSIXct[1:3879822], format: \"2019-04-01 00:09:48\" \"2019-04-01 00:20:30\" ...\n",
      " $ rideable_type     : chr [1:3879822] \"6251\" \"6226\" \"5649\" \"4151\" ...\n",
      " $ start_station_id  : num [1:3879822] 81 317 283 26 202 420 503 260 211 211 ...\n",
      " $ start_station_name: chr [1:3879822] \"Daley Center Plaza\" \"Wood St & Taylor St\" \"LaSalle St & Jackson Blvd\" \"McClurg Ct & Illinois St\" ...\n",
      " $ end_station_id    : num [1:3879822] 56 59 174 133 129 426 500 499 211 211 ...\n",
      " $ end_station_name  : chr [1:3879822] \"Desplaines St & Kinzie St\" \"Wabash Ave & Roosevelt Rd\" \"Canal St & Madison St\" \"Kingsbury St & Kinzie St\" ...\n",
      " $ member_casual     : chr [1:3879822] \"member\" \"member\" \"member\" \"member\" ...\n",
      " $ date              : Date[1:3879822], format: \"2019-04-01\" \"2019-04-01\" ...\n",
      " $ month             : chr [1:3879822] \"04\" \"04\" \"04\" \"04\" ...\n",
      " $ day               : chr [1:3879822] \"01\" \"01\" \"01\" \"01\" ...\n",
      " $ year              : chr [1:3879822] \"2019\" \"2019\" \"2019\" \"2019\" ...\n",
      " $ day_of_week       : chr [1:3879822] \"Monday\" \"Monday\" \"Monday\" \"Monday\" ...\n",
      " $ ride_length       : 'difftime' num [1:3879822] 446 1048 252 357 ...\n",
      "  ..- attr(*, \"units\")= chr \"secs\"\n"
     ]
    }
   ],
   "source": [
    "# Inspecting the structure of the columns\n",
    "str(all_trips)"
   ]
  },
  {
   "cell_type": "markdown",
   "id": "b0cc0c47",
   "metadata": {
    "_cell_guid": "8d3afe6e-fcf1-4e34-a148-372d316b8f88",
    "_uuid": "9582de99-2979-4135-83d4-2fdaa3307d25",
    "papermill": {
     "duration": 0.026399,
     "end_time": "2024-03-13T06:04:30.184121",
     "exception": false,
     "start_time": "2024-03-13T06:04:30.157722",
     "status": "completed"
    },
    "tags": []
   },
   "source": [
    "* Converting \"ride_length\" from factor to numeric so we can run calculations on the data"
   ]
  },
  {
   "cell_type": "code",
   "execution_count": 24,
   "id": "6c29863a",
   "metadata": {
    "_cell_guid": "10b7de71-5f1f-4ae9-9df4-841cb2a4209d",
    "_uuid": "dd9ab4f3-03b2-4f83-b217-da110819f204",
    "collapsed": false,
    "execution": {
     "iopub.execute_input": "2024-03-13T06:04:30.238597Z",
     "iopub.status.busy": "2024-03-13T06:04:30.236925Z",
     "iopub.status.idle": "2024-03-13T06:04:35.622924Z",
     "shell.execute_reply": "2024-03-13T06:04:35.620376Z"
    },
    "jupyter": {
     "outputs_hidden": false
    },
    "papermill": {
     "duration": 5.416644,
     "end_time": "2024-03-13T06:04:35.626297",
     "exception": false,
     "start_time": "2024-03-13T06:04:30.209653",
     "status": "completed"
    },
    "tags": []
   },
   "outputs": [
    {
     "data": {
      "text/html": [
       "FALSE"
      ],
      "text/latex": [
       "FALSE"
      ],
      "text/markdown": [
       "FALSE"
      ],
      "text/plain": [
       "[1] FALSE"
      ]
     },
     "metadata": {},
     "output_type": "display_data"
    },
    {
     "data": {
      "text/html": [
       "TRUE"
      ],
      "text/latex": [
       "TRUE"
      ],
      "text/markdown": [
       "TRUE"
      ],
      "text/plain": [
       "[1] TRUE"
      ]
     },
     "metadata": {},
     "output_type": "display_data"
    }
   ],
   "source": [
    "is.factor(all_trips$ride_length)  # to check whether ride_length is factor\n",
    "all_trips$ride_length <- as.numeric(as.character(all_trips$ride_length))\n",
    "is.numeric(all_trips$ride_length)"
   ]
  },
  {
   "cell_type": "markdown",
   "id": "6ec08ba5",
   "metadata": {
    "_cell_guid": "713dbaf4-f1e6-4351-905a-f06227a73c44",
    "_uuid": "7c12507a-bc30-4567-8c88-d69225023be7",
    "papermill": {
     "duration": 0.02706,
     "end_time": "2024-03-13T06:04:35.678849",
     "exception": false,
     "start_time": "2024-03-13T06:04:35.651789",
     "status": "completed"
    },
    "tags": []
   },
   "source": [
    "* Removing \"bad\" data"
   ]
  },
  {
   "cell_type": "code",
   "execution_count": 25,
   "id": "eefc22aa",
   "metadata": {
    "_cell_guid": "996589a9-f331-4a31-a702-54c3adb1790f",
    "_uuid": "d7adb4c6-17c7-47bd-850a-c4aa94ae1e65",
    "collapsed": false,
    "execution": {
     "iopub.execute_input": "2024-03-13T06:04:35.733865Z",
     "iopub.status.busy": "2024-03-13T06:04:35.732198Z",
     "iopub.status.idle": "2024-03-13T06:04:35.760143Z",
     "shell.execute_reply": "2024-03-13T06:04:35.757658Z"
    },
    "jupyter": {
     "outputs_hidden": false
    },
    "papermill": {
     "duration": 0.058373,
     "end_time": "2024-03-13T06:04:35.762704",
     "exception": false,
     "start_time": "2024-03-13T06:04:35.704331",
     "status": "completed"
    },
    "tags": []
   },
   "outputs": [
    {
     "data": {
      "text/html": [
       "-3382"
      ],
      "text/latex": [
       "-3382"
      ],
      "text/markdown": [
       "-3382"
      ],
      "text/plain": [
       "[1] -3382"
      ]
     },
     "metadata": {},
     "output_type": "display_data"
    }
   ],
   "source": [
    "# checking whether ride_length column has invalid entries, such as negative values\n",
    "\n",
    "min(all_trips$ride_length)"
   ]
  },
  {
   "cell_type": "code",
   "execution_count": 26,
   "id": "1d85fe8f",
   "metadata": {
    "_cell_guid": "c2abd79d-3303-449e-bda9-84847077d26f",
    "_uuid": "bee3264d-4e8c-4c83-a452-cd487c12ab60",
    "collapsed": false,
    "execution": {
     "iopub.execute_input": "2024-03-13T06:04:35.818241Z",
     "iopub.status.busy": "2024-03-13T06:04:35.816537Z",
     "iopub.status.idle": "2024-03-13T06:04:37.488605Z",
     "shell.execute_reply": "2024-03-13T06:04:37.486539Z"
    },
    "jupyter": {
     "outputs_hidden": false
    },
    "papermill": {
     "duration": 1.703052,
     "end_time": "2024-03-13T06:04:37.491484",
     "exception": false,
     "start_time": "2024-03-13T06:04:35.788432",
     "status": "completed"
    },
    "tags": []
   },
   "outputs": [],
   "source": [
    "# remvoing entries where ride_length was negative\n",
    "# removing entries where bikes were taken out of docks and checked for quality (where start_station is \"HQ QR\")\n",
    "# creating a new version of the data frame (v2) since the data is being removed\n",
    "\n",
    "all_trips_v2 <- all_trips[!(all_trips$start_station_name == \"HQ QR\" | all_trips$ride_length<0),]"
   ]
  },
  {
   "cell_type": "markdown",
   "id": "2dfc345c",
   "metadata": {
    "_cell_guid": "34c0ef7b-b55b-4caa-b461-77126677a3d4",
    "_uuid": "fc2aa41c-7851-4488-895e-ff5157b76280",
    "papermill": {
     "duration": 0.026516,
     "end_time": "2024-03-13T06:04:37.544293",
     "exception": false,
     "start_time": "2024-03-13T06:04:37.517777",
     "status": "completed"
    },
    "tags": []
   },
   "source": [
    "# Step 4: Analyze\n",
    "\n",
    "Key stages:\n",
    "\n",
    "**1. Performing calculations; organizing and formating data**\n",
    " \n",
    "*  Implementing descriptive analysis of the *ride_length* column (figures are in seconds)"
   ]
  },
  {
   "cell_type": "code",
   "execution_count": 27,
   "id": "a6933628",
   "metadata": {
    "_cell_guid": "8cdb481d-17ef-4bd4-8b49-bd8352a7cf93",
    "_uuid": "7a072165-c665-42a3-aa81-d3dac86fc380",
    "collapsed": false,
    "execution": {
     "iopub.execute_input": "2024-03-13T06:04:37.599696Z",
     "iopub.status.busy": "2024-03-13T06:04:37.598098Z",
     "iopub.status.idle": "2024-03-13T06:04:37.753611Z",
     "shell.execute_reply": "2024-03-13T06:04:37.751819Z"
    },
    "jupyter": {
     "outputs_hidden": false
    },
    "papermill": {
     "duration": 0.186167,
     "end_time": "2024-03-13T06:04:37.756271",
     "exception": false,
     "start_time": "2024-03-13T06:04:37.570104",
     "status": "completed"
    },
    "tags": []
   },
   "outputs": [
    {
     "data": {
      "text/html": [
       "1479.13902790527"
      ],
      "text/latex": [
       "1479.13902790527"
      ],
      "text/markdown": [
       "1479.13902790527"
      ],
      "text/plain": [
       "[1] 1479.139"
      ]
     },
     "metadata": {},
     "output_type": "display_data"
    },
    {
     "data": {
      "text/html": [
       "712"
      ],
      "text/latex": [
       "712"
      ],
      "text/markdown": [
       "712"
      ],
      "text/plain": [
       "[1] 712"
      ]
     },
     "metadata": {},
     "output_type": "display_data"
    },
    {
     "data": {
      "text/html": [
       "9387024"
      ],
      "text/latex": [
       "9387024"
      ],
      "text/markdown": [
       "9387024"
      ],
      "text/plain": [
       "[1] 9387024"
      ]
     },
     "metadata": {},
     "output_type": "display_data"
    },
    {
     "data": {
      "text/html": [
       "1"
      ],
      "text/latex": [
       "1"
      ],
      "text/markdown": [
       "1"
      ],
      "text/plain": [
       "[1] 1"
      ]
     },
     "metadata": {},
     "output_type": "display_data"
    }
   ],
   "source": [
    "mean(all_trips_v2$ride_length) #straight average (total ride length / rides)\n",
    "median(all_trips_v2$ride_length) #midpoint number in the ascending array of ride lengths\n",
    "max(all_trips_v2$ride_length) #longest ride\n",
    "min(all_trips_v2$ride_length) #shortest ride"
   ]
  },
  {
   "cell_type": "code",
   "execution_count": 28,
   "id": "b7330259",
   "metadata": {
    "_cell_guid": "b0e5e1a2-6031-462c-932d-672edd3bc2a8",
    "_uuid": "c1959c0c-52d2-4932-9a43-5d5bd0f075bd",
    "collapsed": false,
    "execution": {
     "iopub.execute_input": "2024-03-13T06:04:37.813491Z",
     "iopub.status.busy": "2024-03-13T06:04:37.811823Z",
     "iopub.status.idle": "2024-03-13T06:04:38.066665Z",
     "shell.execute_reply": "2024-03-13T06:04:38.064845Z"
    },
    "jupyter": {
     "outputs_hidden": false
    },
    "papermill": {
     "duration": 0.286531,
     "end_time": "2024-03-13T06:04:38.069218",
     "exception": false,
     "start_time": "2024-03-13T06:04:37.782687",
     "status": "completed"
    },
    "tags": []
   },
   "outputs": [
    {
     "data": {
      "text/plain": [
       "   Min. 1st Qu.  Median    Mean 3rd Qu.    Max. \n",
       "      1     412     712    1479    1289 9387024 "
      ]
     },
     "metadata": {},
     "output_type": "display_data"
    }
   ],
   "source": [
    "summary(all_trips_v2$ride_length)  # the four lines above can also be condesned to one line using summary()"
   ]
  },
  {
   "cell_type": "markdown",
   "id": "bbd7e82e",
   "metadata": {
    "_cell_guid": "a89e681c-e2f1-4c62-8e7a-c76e422e1cad",
    "_uuid": "ac3991a6-f119-4823-8bb7-0ee2e4f7b548",
    "papermill": {
     "duration": 0.026215,
     "end_time": "2024-03-13T06:04:38.121981",
     "exception": false,
     "start_time": "2024-03-13T06:04:38.095766",
     "status": "completed"
    },
    "tags": []
   },
   "source": [
    "**2. Aggregating the data to make it useful and accessible; identifying trends and relationships**\n",
    "\n",
    "* Comparing aggregated data on *ride_length* between casual riders and members by checking min, max, median, and mean"
   ]
  },
  {
   "cell_type": "code",
   "execution_count": 29,
   "id": "b36b0b96",
   "metadata": {
    "_cell_guid": "f6a37503-a0df-4695-bfce-e0ad09467bbb",
    "_uuid": "3dcabae8-33cd-429f-a1ef-ed7d911dc7ff",
    "collapsed": false,
    "execution": {
     "iopub.execute_input": "2024-03-13T06:04:38.178514Z",
     "iopub.status.busy": "2024-03-13T06:04:38.176816Z",
     "iopub.status.idle": "2024-03-13T06:04:40.384100Z",
     "shell.execute_reply": "2024-03-13T06:04:40.382220Z"
    },
    "jupyter": {
     "outputs_hidden": false
    },
    "papermill": {
     "duration": 2.238473,
     "end_time": "2024-03-13T06:04:40.386634",
     "exception": false,
     "start_time": "2024-03-13T06:04:38.148161",
     "status": "completed"
    },
    "tags": []
   },
   "outputs": [
    {
     "data": {
      "text/html": [
       "<table class=\"dataframe\">\n",
       "<caption>A data.frame: 2 × 2</caption>\n",
       "<thead>\n",
       "\t<tr><th scope=col>all_trips_v2$member_casual</th><th scope=col>all_trips_v2$ride_length</th></tr>\n",
       "\t<tr><th scope=col>&lt;chr&gt;</th><th scope=col>&lt;dbl&gt;</th></tr>\n",
       "</thead>\n",
       "<tbody>\n",
       "\t<tr><td>casual</td><td>3552.7502</td></tr>\n",
       "\t<tr><td>member</td><td> 850.0662</td></tr>\n",
       "</tbody>\n",
       "</table>\n"
      ],
      "text/latex": [
       "A data.frame: 2 × 2\n",
       "\\begin{tabular}{ll}\n",
       " all\\_trips\\_v2\\$member\\_casual & all\\_trips\\_v2\\$ride\\_length\\\\\n",
       " <chr> & <dbl>\\\\\n",
       "\\hline\n",
       "\t casual & 3552.7502\\\\\n",
       "\t member &  850.0662\\\\\n",
       "\\end{tabular}\n"
      ],
      "text/markdown": [
       "\n",
       "A data.frame: 2 × 2\n",
       "\n",
       "| all_trips_v2$member_casual &lt;chr&gt; | all_trips_v2$ride_length &lt;dbl&gt; |\n",
       "|---|---|\n",
       "| casual | 3552.7502 |\n",
       "| member |  850.0662 |\n",
       "\n"
      ],
      "text/plain": [
       "  all_trips_v2$member_casual all_trips_v2$ride_length\n",
       "1 casual                     3552.7502               \n",
       "2 member                      850.0662               "
      ]
     },
     "metadata": {},
     "output_type": "display_data"
    }
   ],
   "source": [
    "aggregate(all_trips_v2$ride_length ~ all_trips_v2$member_casual, FUN = mean) #mean"
   ]
  },
  {
   "cell_type": "code",
   "execution_count": 30,
   "id": "f60918e8",
   "metadata": {
    "_cell_guid": "b332a6a2-a8c5-4d98-8fcc-9c3aee550fc4",
    "_uuid": "0aa9780a-15f0-482a-8247-139901308aff",
    "collapsed": false,
    "execution": {
     "iopub.execute_input": "2024-03-13T06:04:40.447057Z",
     "iopub.status.busy": "2024-03-13T06:04:40.445346Z",
     "iopub.status.idle": "2024-03-13T06:04:42.848801Z",
     "shell.execute_reply": "2024-03-13T06:04:42.846882Z"
    },
    "jupyter": {
     "outputs_hidden": false
    },
    "papermill": {
     "duration": 2.435736,
     "end_time": "2024-03-13T06:04:42.851388",
     "exception": false,
     "start_time": "2024-03-13T06:04:40.415652",
     "status": "completed"
    },
    "tags": []
   },
   "outputs": [
    {
     "data": {
      "text/html": [
       "<table class=\"dataframe\">\n",
       "<caption>A data.frame: 2 × 2</caption>\n",
       "<thead>\n",
       "\t<tr><th scope=col>all_trips_v2$member_casual</th><th scope=col>all_trips_v2$ride_length</th></tr>\n",
       "\t<tr><th scope=col>&lt;chr&gt;</th><th scope=col>&lt;dbl&gt;</th></tr>\n",
       "</thead>\n",
       "<tbody>\n",
       "\t<tr><td>casual</td><td>1546</td></tr>\n",
       "\t<tr><td>member</td><td> 589</td></tr>\n",
       "</tbody>\n",
       "</table>\n"
      ],
      "text/latex": [
       "A data.frame: 2 × 2\n",
       "\\begin{tabular}{ll}\n",
       " all\\_trips\\_v2\\$member\\_casual & all\\_trips\\_v2\\$ride\\_length\\\\\n",
       " <chr> & <dbl>\\\\\n",
       "\\hline\n",
       "\t casual & 1546\\\\\n",
       "\t member &  589\\\\\n",
       "\\end{tabular}\n"
      ],
      "text/markdown": [
       "\n",
       "A data.frame: 2 × 2\n",
       "\n",
       "| all_trips_v2$member_casual &lt;chr&gt; | all_trips_v2$ride_length &lt;dbl&gt; |\n",
       "|---|---|\n",
       "| casual | 1546 |\n",
       "| member |  589 |\n",
       "\n"
      ],
      "text/plain": [
       "  all_trips_v2$member_casual all_trips_v2$ride_length\n",
       "1 casual                     1546                    \n",
       "2 member                      589                    "
      ]
     },
     "metadata": {},
     "output_type": "display_data"
    }
   ],
   "source": [
    "aggregate(all_trips_v2$ride_length ~ all_trips_v2$member_casual, FUN = median) #median"
   ]
  },
  {
   "cell_type": "code",
   "execution_count": 31,
   "id": "6cac4fcc",
   "metadata": {
    "_cell_guid": "86a473fe-4535-4f3b-80ec-f38c3a53cbdf",
    "_uuid": "93e065d3-99c8-4cb5-bec2-1a6b4be3d7e7",
    "collapsed": false,
    "execution": {
     "iopub.execute_input": "2024-03-13T06:04:42.910940Z",
     "iopub.status.busy": "2024-03-13T06:04:42.909235Z",
     "iopub.status.idle": "2024-03-13T06:04:45.488446Z",
     "shell.execute_reply": "2024-03-13T06:04:45.486218Z"
    },
    "jupyter": {
     "outputs_hidden": false
    },
    "papermill": {
     "duration": 2.610954,
     "end_time": "2024-03-13T06:04:45.490818",
     "exception": false,
     "start_time": "2024-03-13T06:04:42.879864",
     "status": "completed"
    },
    "tags": []
   },
   "outputs": [
    {
     "data": {
      "text/html": [
       "<table class=\"dataframe\">\n",
       "<caption>A data.frame: 2 × 2</caption>\n",
       "<thead>\n",
       "\t<tr><th scope=col>all_trips_v2$member_casual</th><th scope=col>all_trips_v2$ride_length</th></tr>\n",
       "\t<tr><th scope=col>&lt;chr&gt;</th><th scope=col>&lt;dbl&gt;</th></tr>\n",
       "</thead>\n",
       "<tbody>\n",
       "\t<tr><td>casual</td><td>9387024</td></tr>\n",
       "\t<tr><td>member</td><td>9056634</td></tr>\n",
       "</tbody>\n",
       "</table>\n"
      ],
      "text/latex": [
       "A data.frame: 2 × 2\n",
       "\\begin{tabular}{ll}\n",
       " all\\_trips\\_v2\\$member\\_casual & all\\_trips\\_v2\\$ride\\_length\\\\\n",
       " <chr> & <dbl>\\\\\n",
       "\\hline\n",
       "\t casual & 9387024\\\\\n",
       "\t member & 9056634\\\\\n",
       "\\end{tabular}\n"
      ],
      "text/markdown": [
       "\n",
       "A data.frame: 2 × 2\n",
       "\n",
       "| all_trips_v2$member_casual &lt;chr&gt; | all_trips_v2$ride_length &lt;dbl&gt; |\n",
       "|---|---|\n",
       "| casual | 9387024 |\n",
       "| member | 9056634 |\n",
       "\n"
      ],
      "text/plain": [
       "  all_trips_v2$member_casual all_trips_v2$ride_length\n",
       "1 casual                     9387024                 \n",
       "2 member                     9056634                 "
      ]
     },
     "metadata": {},
     "output_type": "display_data"
    }
   ],
   "source": [
    "aggregate(all_trips_v2$ride_length ~ all_trips_v2$member_casual, FUN = max) #max"
   ]
  },
  {
   "cell_type": "code",
   "execution_count": 32,
   "id": "acaaa583",
   "metadata": {
    "_cell_guid": "ca57d999-70cd-40bd-8dc5-ce2e853c73a5",
    "_uuid": "7fbf01ad-83f5-4193-9142-a2f62202527d",
    "collapsed": false,
    "execution": {
     "iopub.execute_input": "2024-03-13T06:04:45.549340Z",
     "iopub.status.busy": "2024-03-13T06:04:45.547521Z",
     "iopub.status.idle": "2024-03-13T06:04:47.600141Z",
     "shell.execute_reply": "2024-03-13T06:04:47.598292Z"
    },
    "jupyter": {
     "outputs_hidden": false
    },
    "papermill": {
     "duration": 2.084785,
     "end_time": "2024-03-13T06:04:47.602853",
     "exception": false,
     "start_time": "2024-03-13T06:04:45.518068",
     "status": "completed"
    },
    "tags": []
   },
   "outputs": [
    {
     "data": {
      "text/html": [
       "<table class=\"dataframe\">\n",
       "<caption>A data.frame: 2 × 2</caption>\n",
       "<thead>\n",
       "\t<tr><th scope=col>all_trips_v2$member_casual</th><th scope=col>all_trips_v2$ride_length</th></tr>\n",
       "\t<tr><th scope=col>&lt;chr&gt;</th><th scope=col>&lt;dbl&gt;</th></tr>\n",
       "</thead>\n",
       "<tbody>\n",
       "\t<tr><td>casual</td><td>2</td></tr>\n",
       "\t<tr><td>member</td><td>1</td></tr>\n",
       "</tbody>\n",
       "</table>\n"
      ],
      "text/latex": [
       "A data.frame: 2 × 2\n",
       "\\begin{tabular}{ll}\n",
       " all\\_trips\\_v2\\$member\\_casual & all\\_trips\\_v2\\$ride\\_length\\\\\n",
       " <chr> & <dbl>\\\\\n",
       "\\hline\n",
       "\t casual & 2\\\\\n",
       "\t member & 1\\\\\n",
       "\\end{tabular}\n"
      ],
      "text/markdown": [
       "\n",
       "A data.frame: 2 × 2\n",
       "\n",
       "| all_trips_v2$member_casual &lt;chr&gt; | all_trips_v2$ride_length &lt;dbl&gt; |\n",
       "|---|---|\n",
       "| casual | 2 |\n",
       "| member | 1 |\n",
       "\n"
      ],
      "text/plain": [
       "  all_trips_v2$member_casual all_trips_v2$ride_length\n",
       "1 casual                     2                       \n",
       "2 member                     1                       "
      ]
     },
     "metadata": {},
     "output_type": "display_data"
    }
   ],
   "source": [
    "aggregate(all_trips_v2$ride_length ~ all_trips_v2$member_casual, FUN = min) #min"
   ]
  },
  {
   "cell_type": "markdown",
   "id": "ab5a5132",
   "metadata": {
    "_cell_guid": "9e5e49a3-df22-4f06-884a-9c52f09e613a",
    "_uuid": "fa55bccd-cf5c-48a9-99c0-e24ef3a1b727",
    "papermill": {
     "duration": 0.027987,
     "end_time": "2024-03-13T06:04:47.659269",
     "exception": false,
     "start_time": "2024-03-13T06:04:47.631282",
     "status": "completed"
    },
    "tags": []
   },
   "source": [
    "* Checking the average ride time by each day for members and casual users"
   ]
  },
  {
   "cell_type": "code",
   "execution_count": 33,
   "id": "6c75f31b",
   "metadata": {
    "_cell_guid": "b7ba8ee6-8786-4c39-b832-6d0ca09483c3",
    "_uuid": "3928a205-7721-47a2-b45f-a3b236c0a042",
    "collapsed": false,
    "execution": {
     "iopub.execute_input": "2024-03-13T06:04:47.718618Z",
     "iopub.status.busy": "2024-03-13T06:04:47.716859Z",
     "iopub.status.idle": "2024-03-13T06:04:50.441683Z",
     "shell.execute_reply": "2024-03-13T06:04:50.439762Z"
    },
    "jupyter": {
     "outputs_hidden": false
    },
    "papermill": {
     "duration": 2.757728,
     "end_time": "2024-03-13T06:04:50.444702",
     "exception": false,
     "start_time": "2024-03-13T06:04:47.686974",
     "status": "completed"
    },
    "tags": []
   },
   "outputs": [
    {
     "data": {
      "text/html": [
       "<table class=\"dataframe\">\n",
       "<caption>A data.frame: 14 × 3</caption>\n",
       "<thead>\n",
       "\t<tr><th scope=col>all_trips_v2$member_casual</th><th scope=col>all_trips_v2$day_of_week</th><th scope=col>all_trips_v2$ride_length</th></tr>\n",
       "\t<tr><th scope=col>&lt;chr&gt;</th><th scope=col>&lt;chr&gt;</th><th scope=col>&lt;dbl&gt;</th></tr>\n",
       "</thead>\n",
       "<tbody>\n",
       "\t<tr><td>casual</td><td>Friday   </td><td>3773.8351</td></tr>\n",
       "\t<tr><td>member</td><td>Friday   </td><td> 824.5305</td></tr>\n",
       "\t<tr><td>casual</td><td>Monday   </td><td>3372.2869</td></tr>\n",
       "\t<tr><td>member</td><td>Monday   </td><td> 842.5726</td></tr>\n",
       "\t<tr><td>casual</td><td>Saturday </td><td>3331.9138</td></tr>\n",
       "\t<tr><td>member</td><td>Saturday </td><td> 968.9337</td></tr>\n",
       "\t<tr><td>casual</td><td>Sunday   </td><td>3581.4054</td></tr>\n",
       "\t<tr><td>member</td><td>Sunday   </td><td> 919.9746</td></tr>\n",
       "\t<tr><td>casual</td><td>Thursday </td><td>3682.9847</td></tr>\n",
       "\t<tr><td>member</td><td>Thursday </td><td> 823.9278</td></tr>\n",
       "\t<tr><td>casual</td><td>Tuesday  </td><td>3596.3599</td></tr>\n",
       "\t<tr><td>member</td><td>Tuesday  </td><td> 826.1427</td></tr>\n",
       "\t<tr><td>casual</td><td>Wednesday</td><td>3718.6619</td></tr>\n",
       "\t<tr><td>member</td><td>Wednesday</td><td> 823.9996</td></tr>\n",
       "</tbody>\n",
       "</table>\n"
      ],
      "text/latex": [
       "A data.frame: 14 × 3\n",
       "\\begin{tabular}{lll}\n",
       " all\\_trips\\_v2\\$member\\_casual & all\\_trips\\_v2\\$day\\_of\\_week & all\\_trips\\_v2\\$ride\\_length\\\\\n",
       " <chr> & <chr> & <dbl>\\\\\n",
       "\\hline\n",
       "\t casual & Friday    & 3773.8351\\\\\n",
       "\t member & Friday    &  824.5305\\\\\n",
       "\t casual & Monday    & 3372.2869\\\\\n",
       "\t member & Monday    &  842.5726\\\\\n",
       "\t casual & Saturday  & 3331.9138\\\\\n",
       "\t member & Saturday  &  968.9337\\\\\n",
       "\t casual & Sunday    & 3581.4054\\\\\n",
       "\t member & Sunday    &  919.9746\\\\\n",
       "\t casual & Thursday  & 3682.9847\\\\\n",
       "\t member & Thursday  &  823.9278\\\\\n",
       "\t casual & Tuesday   & 3596.3599\\\\\n",
       "\t member & Tuesday   &  826.1427\\\\\n",
       "\t casual & Wednesday & 3718.6619\\\\\n",
       "\t member & Wednesday &  823.9996\\\\\n",
       "\\end{tabular}\n"
      ],
      "text/markdown": [
       "\n",
       "A data.frame: 14 × 3\n",
       "\n",
       "| all_trips_v2$member_casual &lt;chr&gt; | all_trips_v2$day_of_week &lt;chr&gt; | all_trips_v2$ride_length &lt;dbl&gt; |\n",
       "|---|---|---|\n",
       "| casual | Friday    | 3773.8351 |\n",
       "| member | Friday    |  824.5305 |\n",
       "| casual | Monday    | 3372.2869 |\n",
       "| member | Monday    |  842.5726 |\n",
       "| casual | Saturday  | 3331.9138 |\n",
       "| member | Saturday  |  968.9337 |\n",
       "| casual | Sunday    | 3581.4054 |\n",
       "| member | Sunday    |  919.9746 |\n",
       "| casual | Thursday  | 3682.9847 |\n",
       "| member | Thursday  |  823.9278 |\n",
       "| casual | Tuesday   | 3596.3599 |\n",
       "| member | Tuesday   |  826.1427 |\n",
       "| casual | Wednesday | 3718.6619 |\n",
       "| member | Wednesday |  823.9996 |\n",
       "\n"
      ],
      "text/plain": [
       "   all_trips_v2$member_casual all_trips_v2$day_of_week all_trips_v2$ride_length\n",
       "1  casual                     Friday                   3773.8351               \n",
       "2  member                     Friday                    824.5305               \n",
       "3  casual                     Monday                   3372.2869               \n",
       "4  member                     Monday                    842.5726               \n",
       "5  casual                     Saturday                 3331.9138               \n",
       "6  member                     Saturday                  968.9337               \n",
       "7  casual                     Sunday                   3581.4054               \n",
       "8  member                     Sunday                    919.9746               \n",
       "9  casual                     Thursday                 3682.9847               \n",
       "10 member                     Thursday                  823.9278               \n",
       "11 casual                     Tuesday                  3596.3599               \n",
       "12 member                     Tuesday                   826.1427               \n",
       "13 casual                     Wednesday                3718.6619               \n",
       "14 member                     Wednesday                 823.9996               "
      ]
     },
     "metadata": {},
     "output_type": "display_data"
    }
   ],
   "source": [
    "aggregate(all_trips_v2$ride_length ~ all_trips_v2$member_casual + all_trips_v2$day_of_week, FUN = mean)"
   ]
  },
  {
   "cell_type": "code",
   "execution_count": 34,
   "id": "0aa99241",
   "metadata": {
    "_cell_guid": "208f1a4d-7698-45ca-a8dc-083b547a9dd9",
    "_uuid": "383d7044-0964-433f-a369-39f95c38bed6",
    "collapsed": false,
    "execution": {
     "iopub.execute_input": "2024-03-13T06:04:50.506157Z",
     "iopub.status.busy": "2024-03-13T06:04:50.504475Z",
     "iopub.status.idle": "2024-03-13T06:04:53.525514Z",
     "shell.execute_reply": "2024-03-13T06:04:53.523687Z"
    },
    "jupyter": {
     "outputs_hidden": false
    },
    "papermill": {
     "duration": 3.053922,
     "end_time": "2024-03-13T06:04:53.528075",
     "exception": false,
     "start_time": "2024-03-13T06:04:50.474153",
     "status": "completed"
    },
    "tags": []
   },
   "outputs": [
    {
     "data": {
      "text/html": [
       "<table class=\"dataframe\">\n",
       "<caption>A data.frame: 14 × 3</caption>\n",
       "<thead>\n",
       "\t<tr><th scope=col>all_trips_v2$member_casual</th><th scope=col>all_trips_v2$day_of_week</th><th scope=col>all_trips_v2$ride_length</th></tr>\n",
       "\t<tr><th scope=col>&lt;chr&gt;</th><th scope=col>&lt;ord&gt;</th><th scope=col>&lt;dbl&gt;</th></tr>\n",
       "</thead>\n",
       "<tbody>\n",
       "\t<tr><td>casual</td><td>Sunday   </td><td>3581.4054</td></tr>\n",
       "\t<tr><td>member</td><td>Sunday   </td><td> 919.9746</td></tr>\n",
       "\t<tr><td>casual</td><td>Monday   </td><td>3372.2869</td></tr>\n",
       "\t<tr><td>member</td><td>Monday   </td><td> 842.5726</td></tr>\n",
       "\t<tr><td>casual</td><td>Tuesday  </td><td>3596.3599</td></tr>\n",
       "\t<tr><td>member</td><td>Tuesday  </td><td> 826.1427</td></tr>\n",
       "\t<tr><td>casual</td><td>Wednesday</td><td>3718.6619</td></tr>\n",
       "\t<tr><td>member</td><td>Wednesday</td><td> 823.9996</td></tr>\n",
       "\t<tr><td>casual</td><td>Thursday </td><td>3682.9847</td></tr>\n",
       "\t<tr><td>member</td><td>Thursday </td><td> 823.9278</td></tr>\n",
       "\t<tr><td>casual</td><td>Friday   </td><td>3773.8351</td></tr>\n",
       "\t<tr><td>member</td><td>Friday   </td><td> 824.5305</td></tr>\n",
       "\t<tr><td>casual</td><td>Saturday </td><td>3331.9138</td></tr>\n",
       "\t<tr><td>member</td><td>Saturday </td><td> 968.9337</td></tr>\n",
       "</tbody>\n",
       "</table>\n"
      ],
      "text/latex": [
       "A data.frame: 14 × 3\n",
       "\\begin{tabular}{lll}\n",
       " all\\_trips\\_v2\\$member\\_casual & all\\_trips\\_v2\\$day\\_of\\_week & all\\_trips\\_v2\\$ride\\_length\\\\\n",
       " <chr> & <ord> & <dbl>\\\\\n",
       "\\hline\n",
       "\t casual & Sunday    & 3581.4054\\\\\n",
       "\t member & Sunday    &  919.9746\\\\\n",
       "\t casual & Monday    & 3372.2869\\\\\n",
       "\t member & Monday    &  842.5726\\\\\n",
       "\t casual & Tuesday   & 3596.3599\\\\\n",
       "\t member & Tuesday   &  826.1427\\\\\n",
       "\t casual & Wednesday & 3718.6619\\\\\n",
       "\t member & Wednesday &  823.9996\\\\\n",
       "\t casual & Thursday  & 3682.9847\\\\\n",
       "\t member & Thursday  &  823.9278\\\\\n",
       "\t casual & Friday    & 3773.8351\\\\\n",
       "\t member & Friday    &  824.5305\\\\\n",
       "\t casual & Saturday  & 3331.9138\\\\\n",
       "\t member & Saturday  &  968.9337\\\\\n",
       "\\end{tabular}\n"
      ],
      "text/markdown": [
       "\n",
       "A data.frame: 14 × 3\n",
       "\n",
       "| all_trips_v2$member_casual &lt;chr&gt; | all_trips_v2$day_of_week &lt;ord&gt; | all_trips_v2$ride_length &lt;dbl&gt; |\n",
       "|---|---|---|\n",
       "| casual | Sunday    | 3581.4054 |\n",
       "| member | Sunday    |  919.9746 |\n",
       "| casual | Monday    | 3372.2869 |\n",
       "| member | Monday    |  842.5726 |\n",
       "| casual | Tuesday   | 3596.3599 |\n",
       "| member | Tuesday   |  826.1427 |\n",
       "| casual | Wednesday | 3718.6619 |\n",
       "| member | Wednesday |  823.9996 |\n",
       "| casual | Thursday  | 3682.9847 |\n",
       "| member | Thursday  |  823.9278 |\n",
       "| casual | Friday    | 3773.8351 |\n",
       "| member | Friday    |  824.5305 |\n",
       "| casual | Saturday  | 3331.9138 |\n",
       "| member | Saturday  |  968.9337 |\n",
       "\n"
      ],
      "text/plain": [
       "   all_trips_v2$member_casual all_trips_v2$day_of_week all_trips_v2$ride_length\n",
       "1  casual                     Sunday                   3581.4054               \n",
       "2  member                     Sunday                    919.9746               \n",
       "3  casual                     Monday                   3372.2869               \n",
       "4  member                     Monday                    842.5726               \n",
       "5  casual                     Tuesday                  3596.3599               \n",
       "6  member                     Tuesday                   826.1427               \n",
       "7  casual                     Wednesday                3718.6619               \n",
       "8  member                     Wednesday                 823.9996               \n",
       "9  casual                     Thursday                 3682.9847               \n",
       "10 member                     Thursday                  823.9278               \n",
       "11 casual                     Friday                   3773.8351               \n",
       "12 member                     Friday                    824.5305               \n",
       "13 casual                     Saturday                 3331.9138               \n",
       "14 member                     Saturday                  968.9337               "
      ]
     },
     "metadata": {},
     "output_type": "display_data"
    }
   ],
   "source": [
    "# Let's put the days of the week in order, and run the previous code again\n",
    "\n",
    "all_trips_v2$day_of_week <- ordered(all_trips_v2$day_of_week, \n",
    "                                    levels=c(\"Sunday\", \"Monday\", \"Tuesday\", \"Wednesday\", \"Thursday\", \"Friday\", \"Saturday\"))\n",
    "\n",
    "aggregate(all_trips_v2$ride_length ~ all_trips_v2$member_casual + all_trips_v2$day_of_week, FUN = mean)"
   ]
  },
  {
   "cell_type": "markdown",
   "id": "10d9ce33",
   "metadata": {
    "_cell_guid": "3c382a9f-ab4a-4db9-982d-94d75cba2b49",
    "_uuid": "a99c3348-2b2d-4818-8845-473dfb31401e",
    "papermill": {
     "duration": 0.028384,
     "end_time": "2024-03-13T06:04:53.584975",
     "exception": false,
     "start_time": "2024-03-13T06:04:53.556591",
     "status": "completed"
    },
    "tags": []
   },
   "source": [
    "* Analyzing ridership data by type and weekday"
   ]
  },
  {
   "cell_type": "code",
   "execution_count": 35,
   "id": "6b206897",
   "metadata": {
    "_cell_guid": "7fbb600d-2225-4df6-bbda-bb2149bb4c6d",
    "_uuid": "93f0bc28-786e-47a8-b724-7e003192e4c5",
    "collapsed": false,
    "execution": {
     "iopub.execute_input": "2024-03-13T06:04:53.646286Z",
     "iopub.status.busy": "2024-03-13T06:04:53.644520Z",
     "iopub.status.idle": "2024-03-13T06:04:57.997457Z",
     "shell.execute_reply": "2024-03-13T06:04:57.995579Z"
    },
    "jupyter": {
     "outputs_hidden": false
    },
    "papermill": {
     "duration": 4.386663,
     "end_time": "2024-03-13T06:04:57.999983",
     "exception": false,
     "start_time": "2024-03-13T06:04:53.613320",
     "status": "completed"
    },
    "tags": []
   },
   "outputs": [
    {
     "name": "stderr",
     "output_type": "stream",
     "text": [
      "\u001b[1m\u001b[22m`summarise()` has grouped output by 'member_casual'. You can override using the\n",
      "`.groups` argument.\n"
     ]
    },
    {
     "data": {
      "text/html": [
       "<table class=\"dataframe\">\n",
       "<caption>A grouped_df: 14 × 4</caption>\n",
       "<thead>\n",
       "\t<tr><th scope=col>member_casual</th><th scope=col>weekday</th><th scope=col>number_of_rides</th><th scope=col>average_duration</th></tr>\n",
       "\t<tr><th scope=col>&lt;chr&gt;</th><th scope=col>&lt;ord&gt;</th><th scope=col>&lt;int&gt;</th><th scope=col>&lt;dbl&gt;</th></tr>\n",
       "</thead>\n",
       "<tbody>\n",
       "\t<tr><td>casual</td><td>Sun</td><td>181293</td><td>3581.4054</td></tr>\n",
       "\t<tr><td>casual</td><td>Mon</td><td>103296</td><td>3372.2869</td></tr>\n",
       "\t<tr><td>casual</td><td>Tue</td><td> 90510</td><td>3596.3599</td></tr>\n",
       "\t<tr><td>casual</td><td>Wed</td><td> 92457</td><td>3718.6619</td></tr>\n",
       "\t<tr><td>casual</td><td>Thu</td><td>102679</td><td>3682.9847</td></tr>\n",
       "\t<tr><td>casual</td><td>Fri</td><td>122404</td><td>3773.8351</td></tr>\n",
       "\t<tr><td>casual</td><td>Sat</td><td>209543</td><td>3331.9138</td></tr>\n",
       "\t<tr><td>member</td><td>Sun</td><td>267965</td><td> 919.9746</td></tr>\n",
       "\t<tr><td>member</td><td>Mon</td><td>472196</td><td> 842.5726</td></tr>\n",
       "\t<tr><td>member</td><td>Tue</td><td>508445</td><td> 826.1427</td></tr>\n",
       "\t<tr><td>member</td><td>Wed</td><td>500329</td><td> 823.9996</td></tr>\n",
       "\t<tr><td>member</td><td>Thu</td><td>484177</td><td> 823.9278</td></tr>\n",
       "\t<tr><td>member</td><td>Fri</td><td>452790</td><td> 824.5305</td></tr>\n",
       "\t<tr><td>member</td><td>Sat</td><td>287958</td><td> 968.9337</td></tr>\n",
       "</tbody>\n",
       "</table>\n"
      ],
      "text/latex": [
       "A grouped\\_df: 14 × 4\n",
       "\\begin{tabular}{llll}\n",
       " member\\_casual & weekday & number\\_of\\_rides & average\\_duration\\\\\n",
       " <chr> & <ord> & <int> & <dbl>\\\\\n",
       "\\hline\n",
       "\t casual & Sun & 181293 & 3581.4054\\\\\n",
       "\t casual & Mon & 103296 & 3372.2869\\\\\n",
       "\t casual & Tue &  90510 & 3596.3599\\\\\n",
       "\t casual & Wed &  92457 & 3718.6619\\\\\n",
       "\t casual & Thu & 102679 & 3682.9847\\\\\n",
       "\t casual & Fri & 122404 & 3773.8351\\\\\n",
       "\t casual & Sat & 209543 & 3331.9138\\\\\n",
       "\t member & Sun & 267965 &  919.9746\\\\\n",
       "\t member & Mon & 472196 &  842.5726\\\\\n",
       "\t member & Tue & 508445 &  826.1427\\\\\n",
       "\t member & Wed & 500329 &  823.9996\\\\\n",
       "\t member & Thu & 484177 &  823.9278\\\\\n",
       "\t member & Fri & 452790 &  824.5305\\\\\n",
       "\t member & Sat & 287958 &  968.9337\\\\\n",
       "\\end{tabular}\n"
      ],
      "text/markdown": [
       "\n",
       "A grouped_df: 14 × 4\n",
       "\n",
       "| member_casual &lt;chr&gt; | weekday &lt;ord&gt; | number_of_rides &lt;int&gt; | average_duration &lt;dbl&gt; |\n",
       "|---|---|---|---|\n",
       "| casual | Sun | 181293 | 3581.4054 |\n",
       "| casual | Mon | 103296 | 3372.2869 |\n",
       "| casual | Tue |  90510 | 3596.3599 |\n",
       "| casual | Wed |  92457 | 3718.6619 |\n",
       "| casual | Thu | 102679 | 3682.9847 |\n",
       "| casual | Fri | 122404 | 3773.8351 |\n",
       "| casual | Sat | 209543 | 3331.9138 |\n",
       "| member | Sun | 267965 |  919.9746 |\n",
       "| member | Mon | 472196 |  842.5726 |\n",
       "| member | Tue | 508445 |  826.1427 |\n",
       "| member | Wed | 500329 |  823.9996 |\n",
       "| member | Thu | 484177 |  823.9278 |\n",
       "| member | Fri | 452790 |  824.5305 |\n",
       "| member | Sat | 287958 |  968.9337 |\n",
       "\n"
      ],
      "text/plain": [
       "   member_casual weekday number_of_rides average_duration\n",
       "1  casual        Sun     181293          3581.4054       \n",
       "2  casual        Mon     103296          3372.2869       \n",
       "3  casual        Tue      90510          3596.3599       \n",
       "4  casual        Wed      92457          3718.6619       \n",
       "5  casual        Thu     102679          3682.9847       \n",
       "6  casual        Fri     122404          3773.8351       \n",
       "7  casual        Sat     209543          3331.9138       \n",
       "8  member        Sun     267965           919.9746       \n",
       "9  member        Mon     472196           842.5726       \n",
       "10 member        Tue     508445           826.1427       \n",
       "11 member        Wed     500329           823.9996       \n",
       "12 member        Thu     484177           823.9278       \n",
       "13 member        Fri     452790           824.5305       \n",
       "14 member        Sat     287958           968.9337       "
      ]
     },
     "metadata": {},
     "output_type": "display_data"
    }
   ],
   "source": [
    "all_trips_v2 %>% \n",
    "  mutate(weekday = wday(started_at, label = TRUE)) %>%  #creates weekday field using wday()\n",
    "  group_by(member_casual, weekday) %>%  #groups by usertype and weekday\n",
    "  summarise(number_of_rides = n()  #calculates the number of rides \n",
    "            ,average_duration = mean(ride_length)) %>%  #calculates the average duration\n",
    "  arrange(member_casual, weekday)  #sorts"
   ]
  },
  {
   "cell_type": "markdown",
   "id": "5a7c934f",
   "metadata": {
    "_cell_guid": "61e6e8ec-02b6-4667-8206-d7d64850e647",
    "_uuid": "e5572701-d61a-4162-8157-bf99b96d98e0",
    "papermill": {
     "duration": 0.028857,
     "end_time": "2024-03-13T06:04:58.057378",
     "exception": false,
     "start_time": "2024-03-13T06:04:58.028521",
     "status": "completed"
    },
    "tags": []
   },
   "source": [
    "# Step 5: Share\n",
    "\n",
    "Key stages:\n",
    "\n",
    "**1.Determining the best way to share findings**\n",
    "\n",
    "* Now that we have summary analysis, as well as infomration on ride trends by usertype and days of the week, we may proceed to creation of visuals.\n",
    "\n",
    "**2.Creating effective data visualizations**\n",
    "\n",
    "* Let's visualize the percentage share of riders by user type"
   ]
  },
  {
   "cell_type": "code",
   "execution_count": 36,
   "id": "6ed228fa",
   "metadata": {
    "_cell_guid": "877f1943-2d7a-4f60-bad2-977c70382aff",
    "_uuid": "6455f39e-be0b-42fc-aae3-24b885973277",
    "execution": {
     "iopub.execute_input": "2024-03-13T06:04:58.119122Z",
     "iopub.status.busy": "2024-03-13T06:04:58.117441Z",
     "iopub.status.idle": "2024-03-13T06:04:58.877775Z",
     "shell.execute_reply": "2024-03-13T06:04:58.875899Z"
    },
    "papermill": {
     "duration": 0.794746,
     "end_time": "2024-03-13T06:04:58.880543",
     "exception": false,
     "start_time": "2024-03-13T06:04:58.085797",
     "status": "completed"
    },
    "tags": []
   },
   "outputs": [
    {
     "data": {
      "image/png": "[encoded data removed]"
     },
     "metadata": {
      "image/png": {
       "height": 420,
       "width": 420
      }
     },
     "output_type": "display_data"
    }
   ],
   "source": [
    "# Calculate the percentage distribution of user types\n",
    "user_type_counts <- table(all_trips_v2$member_casual)\n",
    "percentage_distribution <- prop.table(user_type_counts) * 100\n",
    "\n",
    "# Create a bar plot using ggplot2\n",
    "ggplot(data = data.frame(User_type = names(percentage_distribution), Percentage = as.numeric(percentage_distribution)), \n",
    "  aes(x = User_type, y = Percentage)) +\n",
    "  geom_bar(stat = \"identity\", fill = \"Dark Turquoise\") +\n",
    "  labs(title = \"Percentage Distribution by User Type\\n\",\n",
    "       x = \"User Type\",y = \"Total, %\", tag=\"Fig.1\") + theme(plot.tag.position = \"topleft\") +\n",
    "  scale_y_continuous(labels = scales::percent_format(scale = 1)) +\n",
    "  theme_minimal(base_size = 14) +\n",
    "  theme(axis.title.y = element_text(vjust = +3),\n",
    "    axis.title.x = element_text(vjust = -0.75))"
   ]
  },
  {
   "cell_type": "markdown",
   "id": "75b1ae37",
   "metadata": {
    "_cell_guid": "4da0f34b-d63d-456f-8c47-8d9a1802826f",
    "_uuid": "753df182-8a39-43ae-8188-922d93a7794b",
    "papermill": {
     "duration": 0.029834,
     "end_time": "2024-03-13T06:04:58.939991",
     "exception": false,
     "start_time": "2024-03-13T06:04:58.910157",
     "status": "completed"
    },
    "tags": []
   },
   "source": [
    "* As shown on Figure 1, the majority (77%) of users consists of members, as compared to casual riders (23%).\n",
    "* Next, let's visualize the number of rides by rider type and weekdays"
   ]
  },
  {
   "cell_type": "code",
   "execution_count": 37,
   "id": "3ec25556",
   "metadata": {
    "_cell_guid": "ff521e39-11e7-4969-80fb-e0469b76282c",
    "_kg_hide-output": false,
    "_uuid": "e77f7fb6-5079-460b-8096-76d6789becf5",
    "collapsed": false,
    "execution": {
     "iopub.execute_input": "2024-03-13T06:04:59.003323Z",
     "iopub.status.busy": "2024-03-13T06:04:59.001449Z",
     "iopub.status.idle": "2024-03-13T06:05:03.561428Z",
     "shell.execute_reply": "2024-03-13T06:05:03.559400Z"
    },
    "jupyter": {
     "outputs_hidden": false
    },
    "papermill": {
     "duration": 4.594296,
     "end_time": "2024-03-13T06:05:03.564023",
     "exception": false,
     "start_time": "2024-03-13T06:04:58.969727",
     "status": "completed"
    },
    "tags": []
   },
   "outputs": [
    {
     "name": "stderr",
     "output_type": "stream",
     "text": [
      "\u001b[1m\u001b[22m`summarise()` has grouped output by 'member_casual'. You can override using the\n",
      "`.groups` argument.\n"
     ]
    },
    {
     "data": {
      "image/png": "[encoded data removed]"
     },
     "metadata": {
      "image/png": {
       "height": 420,
       "width": 420
      }
     },
     "output_type": "display_data"
    }
   ],
   "source": [
    "all_trips_v2 %>% \n",
    "  mutate(weekday = wday(started_at, label = TRUE)) %>% \n",
    "  group_by(member_casual, weekday) %>% \n",
    "  summarise(number_of_rides = n()\n",
    "            ,average_duration = mean(ride_length)) %>% \n",
    "  arrange(member_casual, weekday)  %>%\n",
    "  ggplot(aes(x = weekday, y = number_of_rides, fill = member_casual)) +\n",
    "  geom_col(position = \"dodge\") +\n",
    "  labs(title = \"Number of Rides by User Type and Days\\n\", x = \"Day of the Week\", \n",
    "       y = \"Number of rides\", fill=\"User type\", tag=\"Fig.2\") + theme(plot.tag.position = \"topleft\") +\n",
    "       scale_y_continuous(labels = scales::comma) +\n",
    "       theme_minimal(base_size = 14) +\n",
    "       theme(axis.title.y = element_text(vjust = +3),\n",
    "       axis.title.x = element_text(vjust = -0.75))"
   ]
  },
  {
   "cell_type": "markdown",
   "id": "524f1d60",
   "metadata": {
    "_cell_guid": "462bb674-5dd7-460a-8833-eed3dfb69e57",
    "_uuid": "f228c854-d619-411f-a740-5b270ff005d5",
    "papermill": {
     "duration": 0.031005,
     "end_time": "2024-03-13T06:05:03.626014",
     "exception": false,
     "start_time": "2024-03-13T06:05:03.595009",
     "status": "completed"
    },
    "tags": []
   },
   "source": [
    "* The number of rides by members is highest during weekdays (Monday to Friday), as opposed to casual riders, who prefer to use bikes more on Saturdays and Sundays.\n",
    "* Further, let's visualize the number of rides by rider type and months"
   ]
  },
  {
   "cell_type": "code",
   "execution_count": 38,
   "id": "6babd35c",
   "metadata": {
    "_cell_guid": "5b85ee8d-6607-4663-ae99-a39898b7e9cd",
    "_uuid": "b498a93d-6399-4a9f-9d20-4bb30dc7a201",
    "collapsed": false,
    "execution": {
     "iopub.execute_input": "2024-03-13T06:05:03.692225Z",
     "iopub.status.busy": "2024-03-13T06:05:03.690476Z",
     "iopub.status.idle": "2024-03-13T06:05:08.642110Z",
     "shell.execute_reply": "2024-03-13T06:05:08.640185Z"
    },
    "jupyter": {
     "outputs_hidden": false
    },
    "papermill": {
     "duration": 4.987597,
     "end_time": "2024-03-13T06:05:08.645073",
     "exception": false,
     "start_time": "2024-03-13T06:05:03.657476",
     "status": "completed"
    },
    "tags": []
   },
   "outputs": [
    {
     "name": "stderr",
     "output_type": "stream",
     "text": [
      "\u001b[1m\u001b[22m`summarise()` has grouped output by 'member_casual'. You can override using the\n",
      "`.groups` argument.\n"
     ]
    },
    {
     "data": {
      "image/png": "[encoded data removed]"
     },
     "metadata": {
      "image/png": {
       "height": 420,
       "width": 420
      }
     },
     "output_type": "display_data"
    }
   ],
   "source": [
    "all_trips_v2 %>% \n",
    "  mutate(month = month(started_at, label = TRUE)) %>% \n",
    "  group_by(member_casual, month) %>% \n",
    "  summarise(number_of_rides = n()\n",
    "            ,average_duration = mean(ride_length)) %>% \n",
    "  arrange(member_casual, month)  %>% \n",
    "  ggplot(aes(x = month, y = number_of_rides, fill = member_casual)) +\n",
    "  geom_col(position = \"dodge\") +\n",
    "  labs(title = \"Number of Rides by User Type and Months\\n\", x = \"Months\", \n",
    "  y = \"Number of Rides\", fill=\"User Type\", tag=\"Fig.3\") + theme(plot.tag.position = \"topleft\") +\n",
    "  scale_y_continuous(labels = scales::comma) +\n",
    "  theme_minimal(base_size = 14) +\n",
    "  theme(axis.title.y = element_text(vjust = +3),\n",
    "axis.title.x = element_text(vjust = -0.75))"
   ]
  },
  {
   "cell_type": "markdown",
   "id": "a4ef8907",
   "metadata": {
    "_cell_guid": "bb3b8ae3-a083-4074-9bbe-76269dd49d77",
    "_uuid": "8f78da01-5813-4559-97b4-f0e1444a68df",
    "papermill": {
     "duration": 0.031819,
     "end_time": "2024-03-13T06:05:08.708510",
     "exception": false,
     "start_time": "2024-03-13T06:05:08.676691",
     "status": "completed"
    },
    "tags": []
   },
   "source": [
    "* Here we can observe similar trend in rides between members and casual users during specific months of the year. Both user types generally ride more during warmer months - from April to October. The lowest number of rides can be observed during months of January and February for both user types, assuming that Chicago weather might not be very comfortable for rides during winter months.\n",
    "* Finally, let's visualize average duration of rides"
   ]
  },
  {
   "cell_type": "code",
   "execution_count": 39,
   "id": "bbd2b898",
   "metadata": {
    "_cell_guid": "d7850ba3-6d8c-449f-a2dd-dc8d192e7671",
    "_uuid": "fb428897-aa66-4e8c-bf84-9873a62865dd",
    "collapsed": false,
    "execution": {
     "iopub.execute_input": "2024-03-13T06:05:08.775502Z",
     "iopub.status.busy": "2024-03-13T06:05:08.773808Z",
     "iopub.status.idle": "2024-03-13T06:05:13.323918Z",
     "shell.execute_reply": "2024-03-13T06:05:13.322024Z"
    },
    "jupyter": {
     "outputs_hidden": false
    },
    "papermill": {
     "duration": 4.586722,
     "end_time": "2024-03-13T06:05:13.326840",
     "exception": false,
     "start_time": "2024-03-13T06:05:08.740118",
     "status": "completed"
    },
    "tags": []
   },
   "outputs": [
    {
     "name": "stderr",
     "output_type": "stream",
     "text": [
      "\u001b[1m\u001b[22m`summarise()` has grouped output by 'member_casual'. You can override using the\n",
      "`.groups` argument.\n"
     ]
    },
    {
     "data": {
      "image/png": "[encoded data removed]"
     },
     "metadata": {
      "image/png": {
       "height": 420,
       "width": 420
      }
     },
     "output_type": "display_data"
    }
   ],
   "source": [
    "all_trips_v2 %>% \n",
    "  mutate(weekday = wday(started_at, label = TRUE)) %>% \n",
    "  group_by(member_casual, weekday) %>% \n",
    "  summarise(number_of_rides = n()\n",
    "            ,average_duration = mean(ride_length)) %>% \n",
    "  arrange(member_casual, weekday)  %>% \n",
    "  ggplot(aes(x = weekday, y = average_duration, fill = member_casual)) +\n",
    "  geom_col(position = \"dodge\") +\n",
    "  labs(title = \"Average Duration of Trip by User Type and Days\\n\", \n",
    "       x = \"Day of the week\", y = \"Average duration of trip, in sec\", fill=\"User Type\", tag=\"Fig.4\") +\n",
    "       theme(plot.tag.position = \"topleft\") +\n",
    "       theme_minimal(base_size = 14) +\n",
    "       theme(axis.title.y = element_text(vjust = +3),\n",
    "       axis.title.x = element_text(vjust = -0.75))"
   ]
  },
  {
   "cell_type": "markdown",
   "id": "e22e94b0",
   "metadata": {
    "_cell_guid": "be1e0258-e760-4c41-b788-9dae5b344727",
    "_uuid": "a07fa47a-6516-4abb-b3b9-b30a0f3f6cd5",
    "papermill": {
     "duration": 0.033067,
     "end_time": "2024-03-13T06:05:13.393436",
     "exception": false,
     "start_time": "2024-03-13T06:05:13.360369",
     "status": "completed"
    },
    "tags": []
   },
   "source": [
    "* Average duration of trips for members is similar throughout the week - members typically have shorter rides. In contrast, casual users spend longer time riding a bike, and their trip duration doesn't change significantly throughout the week."
   ]
  },
  {
   "cell_type": "markdown",
   "id": "ec3f651a",
   "metadata": {
    "_cell_guid": "6389d203-3b69-4469-b1bf-48676562a3d6",
    "_uuid": "66b5f384-04fd-40dd-8402-f044775c9fdd",
    "papermill": {
     "duration": 0.032513,
     "end_time": "2024-03-13T06:05:13.458748",
     "exception": false,
     "start_time": "2024-03-13T06:05:13.426235",
     "status": "completed"
    },
    "tags": []
   },
   "source": [
    "# Step 6: Act\n",
    "\n",
    "Key stages:\n",
    "\n",
    "**Providing top three recommendations based on the analysis**\n",
    "\n",
    "After analysis and visualisation of data the main noticeable insights are as following:\n",
    "\n",
    "* There is a significantly higher number of member users, as compared to casual riders.\n",
    "* Casual riders tend to use bicycles more on weekends, whereas members' usage is higher on weekdays. This might mean that casual riders prefer bikes for leisure purposes, as opposed to members, who use bikes more consistently - for work/school/other daily activities.\n",
    "* Both casuals and members are using bikes more often during warmer months - from April to October; the least common months for usage are January and February.\n",
    "* Average trip duration has similar stable trends for both user types - casual riders ride for longer periods of time, whereas members- for shorter. This may further support our assumption of usage purposes, which are: leisure for casuals, and work for members.\n",
    "\n",
    "**Based on the above findings my recommendations would be:**\n",
    "\n",
    "1. Since casual riders use bikes more during the weekends, it might be beneficial to launch marketing campaigns focused on providing a discount for weekend rides with a purchase of membership.\n",
    "2. It would be also beneficial to start actively promoting digital media campaigns before and during the peak season - from mid of March until end of October.\n",
    "3. Due to a longer ride durations by members it might also be a good idea to launch promotions and incentives for membership purchases for those who reach a certain mileage in ride."
   ]
  }
 ],
 "metadata": {
  "kaggle": {
   "accelerator": "none",
   "dataSources": [
    {
     "datasetId": 4545548,
     "sourceId": 7770082,
     "sourceType": "datasetVersion"
    }
   ],
   "dockerImageVersionId": 30618,
   "isGpuEnabled": false,
   "isInternetEnabled": false,
   "language": "r",
   "sourceType": "notebook"
  },
  "kernelspec": {
   "display_name": "R",
   "language": "R",
   "name": "ir"
  },
  "language_info": {
   "codemirror_mode": "r",
   "file_extension": ".r",
   "mimetype": "text/x-r-source",
   "name": "R",
   "pygments_lexer": "r",
   "version": "4.0.5"
  },
  "papermill": {
   "default_parameters": {},
   "duration": 87.967839,
   "end_time": "2024-03-13T06:05:13.816286",
   "environment_variables": {},
   "exception": null,
   "input_path": "__notebook__.ipynb",
   "output_path": "__notebook__.ipynb",
   "parameters": {},
   "start_time": "2024-03-13T06:03:45.848447",
   "version": "2.5.0"
  }
 },
 "nbformat": 4,
 "nbformat_minor": 5
}
